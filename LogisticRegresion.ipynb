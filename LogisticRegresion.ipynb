{
  "nbformat": 4,
  "nbformat_minor": 0,
  "metadata": {
    "colab": {
      "provenance": []
    },
    "kernelspec": {
      "name": "python3",
      "display_name": "Python 3"
    },
    "language_info": {
      "name": "python"
    }
  },
  "cells": [
    {
      "cell_type": "markdown",
      "source": [
        "##**Logistic Regression**\n"
      ],
      "metadata": {
        "id": "J29otaM_hXRk"
      }
    },
    {
      "cell_type": "markdown",
      "source": [
        "##**Assignment Questions**"
      ],
      "metadata": {
        "id": "LzMcaLLQhnEA"
      }
    },
    {
      "cell_type": "markdown",
      "source": [
        "###**Theoretical**"
      ],
      "metadata": {
        "id": "rgJSr_G9hvl9"
      }
    },
    {
      "cell_type": "markdown",
      "source": [
        "**1.What is Logistic Regression, and how does it differ from Linear Regression?**"
      ],
      "metadata": {
        "id": "6KJAQ-FHiFOq"
      }
    },
    {
      "cell_type": "markdown",
      "source": [
        "Ans: **Logistic Regression** is a type of regression used for predicting categorical outcomes, usually binary (yes/no, 0/1). It calculates the probability of an event happening, using an S-shaped curve (sigmoid function) to output a value between 0 and 1.\n",
        "\n",
        "**Linear Regression**, on the other hand, predicts a continuous outcome (like a price or temperature) using a straight line. It tries to fit the best line that predicts the value based on the input features.\n",
        "\n",
        "**Key Difference**:\n",
        "- **Logistic Regression** is for classification (categorical outcomes).\n",
        "- **Linear Regression** is for regression (continuous outcomes)."
      ],
      "metadata": {
        "id": "r-KSktXpiLFY"
      }
    },
    {
      "cell_type": "markdown",
      "source": [
        "**2.What is the mathematical equation of Logistic Regression?**"
      ],
      "metadata": {
        "id": "DlWI14uPiUlz"
      }
    },
    {
      "cell_type": "markdown",
      "source": [
        "Ans: The mathematical equation of **Logistic Regression** is:\n",
        "\n",
        "\\[\n",
        "P(y = 1 \\mid X) = \\frac{1}{1 + e^{-(b_0 + b_1X_1 + b_2X_2 + \\dots + b_nX_n)}}\n",
        "\\]\n",
        "\n",
        "Where:\n",
        "- \\( P(y = 1 \\mid X) \\) is the probability of the event occurring (the outcome being 1).\n",
        "- \\( b_0 \\) is the intercept (bias term).\n",
        "- \\( b_1, b_2, \\dots, b_n \\) are the coefficients (weights) for the input features \\( X_1, X_2, \\dots, X_n \\).\n",
        "- \\( e \\) is the base of the natural logarithm.\n",
        "- \\( X_1, X_2, \\dots, X_n \\) are the input features (independent variables).\n",
        "\n",
        "This equation uses the **sigmoid function** (the part \\( \\frac{1}{1 + e^{-z}} \\)) to ensure the output is between 0 and 1, representing a probability."
      ],
      "metadata": {
        "id": "2yRUv4MbiZKb"
      }
    },
    {
      "cell_type": "markdown",
      "source": [
        "**3.Why do we use the Sigmoid function in Logistic Regression?**"
      ],
      "metadata": {
        "id": "yxl_mZrvimXO"
      }
    },
    {
      "cell_type": "markdown",
      "source": [
        "Ans: We use the **Sigmoid function** in Logistic Regression because it maps any input value (which can be any real number) into a probability between 0 and 1, which is ideal for binary classification problems.\n",
        "\n",
        "The **Sigmoid function** has the form:\n",
        "\n",
        "\\[\n",
        "\\sigma(z) = \\frac{1}{1 + e^{-z}}\n",
        "\\]\n",
        "\n",
        "Where:\n",
        "- \\( z \\) is the linear combination of input features (e.g., \\( b_0 + b_1X_1 + b_2X_2 + \\dots \\)).\n",
        "- \\( e \\) is the base of the natural logarithm.\n",
        "\n",
        "**Why Sigmoid?**\n",
        "1. **Output between 0 and 1**: This is useful for predicting probabilities, as probabilities must be in the range [0, 1].\n",
        "2. **Non-linear transformation**: It transforms the raw linear predictions into a smooth, continuous probability curve, making it suitable for classification.\n",
        "3. **Interpretability**: The result of the Sigmoid function can be interpreted as the probability of the event happening (e.g., the probability that a customer will buy a product).\n",
        "\n",
        "In short, the Sigmoid function helps logistic regression provide meaningful predictions in terms of probabilities, making it suitable for classification tasks."
      ],
      "metadata": {
        "id": "HcFjSpoKisnn"
      }
    },
    {
      "cell_type": "markdown",
      "source": [
        "**4.What is the cost function of Logistic Regression?**"
      ],
      "metadata": {
        "id": "YUQ1PB-0i0eg"
      }
    },
    {
      "cell_type": "markdown",
      "source": [
        "Ans: The **cost function** of Logistic Regression is called the **Log Loss** or **Binary Cross-Entropy Loss**. It measures how well the model's predictions match the actual labels.\n",
        "\n",
        "The cost function for Logistic Regression is:\n",
        "\n",
        "\\[\n",
        "J(\\theta) = - \\frac{1}{m} \\sum_{i=1}^{m} \\left[ y^{(i)} \\log(h_{\\theta}(x^{(i)})) + (1 - y^{(i)}) \\log(1 - h_{\\theta}(x^{(i)})) \\right]\n",
        "\\]\n",
        "\n",
        "Where:\n",
        "- \\( m \\) is the number of training examples.\n",
        "- \\( y^{(i)} \\) is the actual label (0 or 1) for the \\(i\\)-th training example.\n",
        "- \\( h_{\\theta}(x^{(i)}) \\) is the predicted probability for the \\(i\\)-th training example, given by the Sigmoid function:\n",
        "  \\[\n",
        "  h_{\\theta}(x^{(i)}) = \\frac{1}{1 + e^{-(\\theta_0 + \\theta_1 x_1^{(i)} + \\dots + \\theta_n x_n^{(i)})}}\n",
        "  \\]\n",
        "- \\( \\theta_0, \\theta_1, \\dots, \\theta_n \\) are the model's parameters (weights).\n",
        "\n",
        "### Explanation:\n",
        "- The first term \\( y^{(i)} \\log(h_{\\theta}(x^{(i)})) \\) penalizes the model more when the predicted probability is far from 1 (if the true label is 1).\n",
        "- The second term \\( (1 - y^{(i)}) \\log(1 - h_{\\theta}(x^{(i)})) \\) penalizes the model more when the predicted probability is far from 0 (if the true label is 0).\n",
        "\n",
        "The goal of training the model is to **minimize** this cost function, adjusting the parameters \\( \\theta \\) to get the best predictions (probabilities) that match the true labels."
      ],
      "metadata": {
        "id": "2O2OHYyyi5L9"
      }
    },
    {
      "cell_type": "markdown",
      "source": [
        "**5.What is Regularization in Logistic Regression? Why is it needed?**"
      ],
      "metadata": {
        "id": "CpKb4hHpjDTL"
      }
    },
    {
      "cell_type": "markdown",
      "source": [
        "Ans: **Regularization** in Logistic Regression is a technique used to **prevent overfitting** by adding a penalty to the model's cost function. This penalty discourages the model from becoming too complex and overfitting the training data.\n",
        "\n",
        "### Why is it needed?\n",
        "1. **Prevents Overfitting**: Without regularization, the model might memorize the training data (overfit) and fail to generalize well to new data. Regularization helps avoid this by controlling the model's complexity.\n",
        "2. **Improves Generalization**: By adding a penalty on large coefficients, regularization encourages the model to focus on the most important features, making it more likely to perform well on unseen data.\n",
        "\n",
        "In short, **regularization** helps make the model **simpler and more robust**, improving its ability to generalize to new, unseen data."
      ],
      "metadata": {
        "id": "fAR4XvSejIaS"
      }
    },
    {
      "cell_type": "markdown",
      "source": [
        "**6.Explain the difference between Lasso, Ridge, and Elastic Net regression.**"
      ],
      "metadata": {
        "id": "9bPr7CTbjWIj"
      }
    },
    {
      "cell_type": "markdown",
      "source": [
        "Ans:The key difference between **Lasso**, **Ridge**, and **Elastic Net** regression lies in how they apply regularization to control model complexity and prevent overfitting. Here's a simple breakdown:\n",
        "\n",
        "### 1. **Lasso Regression (L1 Regularization)**:\n",
        "   - **Penalty term**: \\( \\lambda \\sum_{j=1}^{n} |\\theta_j| \\)\n",
        "   - **Effect**: Lasso tends to drive some coefficients exactly to **zero**, performing **feature selection** by removing irrelevant features.\n",
        "   - **When to use**: Lasso is useful when you suspect only a few features are important and want to eliminate others.\n",
        "\n",
        "### 2. **Ridge Regression (L2 Regularization)**:\n",
        "   - **Penalty term**: \\( \\frac{\\lambda}{2} \\sum_{j=1}^{n} \\theta_j^2 \\)\n",
        "   - **Effect**: Ridge shrinks the coefficients, but **does not set them to zero**. It helps to reduce multicollinearity and keeps all features but with smaller weights.\n",
        "   - **When to use**: Ridge is useful when you believe many features are important but want to prevent overfitting.\n",
        "\n",
        "### 3. **Elastic Net Regression**:\n",
        "   - **Penalty term**: Combination of Lasso and Ridge:\n",
        "     \\[\n",
        "     \\lambda \\left( \\alpha \\sum_{j=1}^{n} |\\theta_j| + \\frac{1-\\alpha}{2} \\sum_{j=1}^{n} \\theta_j^2 \\right)\n",
        "     \\]\n",
        "   - **Effect**: Elastic Net combines both L1 (Lasso) and L2 (Ridge) regularization. It provides the benefits of both: feature selection and coefficient shrinkage.\n",
        "   - **When to use**: Elastic Net is useful when you have many correlated features or when you want a balance between feature selection and shrinkage.\n",
        "\n",
        "### In short:\n",
        "- **Lasso**: Uses L1 regularization; drives some coefficients to zero (feature selection).\n",
        "- **Ridge**: Uses L2 regularization; shrinks coefficients but doesn't set them to zero.\n",
        "- **Elastic Net**: Combines L1 and L2 regularization, providing a balance of both.\n",
        "\n"
      ],
      "metadata": {
        "id": "5ELRXmoXjbPa"
      }
    },
    {
      "cell_type": "markdown",
      "source": [
        "**7.When should we use Elastic Net instead of Lasso or Ridge?**"
      ],
      "metadata": {
        "id": "y9N5pRsFjrEK"
      }
    },
    {
      "cell_type": "markdown",
      "source": [
        "Ans: You should use **Elastic Net** instead of **Lasso** or **Ridge** in the following situations:\n",
        "\n",
        "### 1. **When you have many correlated features**:\n",
        "   - **Lasso** might struggle with correlated features, as it tends to select only one feature from a group of correlated features and set others to zero.\n",
        "   - **Ridge** tends to shrink coefficients but keeps all features, even those that might be irrelevant.\n",
        "   - **Elastic Net** combines both **Lasso** and **Ridge**, so it can handle correlated features better by selecting groups of features together while still allowing for some shrinkage.\n",
        "\n",
        "### 2. **When you suspect that there are many relevant features**:\n",
        "   - **Lasso** can be too aggressive in eliminating features by setting many coefficients to zero, which might be undesirable if you believe many features are important.\n",
        "   - **Elastic Net** provides a balance between **Lasso** and **Ridge**, allowing it to both shrink the coefficients and select relevant features without eliminating too many of them.\n",
        "\n",
        "### 3. **When you have more predictors than observations**:\n",
        "   - When the number of features (predictors) is larger than the number of observations (data points), **Lasso** and **Ridge** can still work, but **Elastic Net** is more flexible and can handle this case better, especially when features are highly correlated.\n",
        "\n",
        "### When to use:\n",
        "- **Elastic Net** is preferred when you are unsure about the relationship between the features (whether they are strongly correlated or not) or if you have a mix of both relevant and irrelevant features.\n",
        "- If you know that some features are redundant (correlated), Elastic Net can help keep them together.\n",
        "\n"
      ],
      "metadata": {
        "id": "geArAgwmj4Sb"
      }
    },
    {
      "cell_type": "markdown",
      "source": [
        "**8.What is the impact of the regularization parameter (λ) in Logistic Regression?**"
      ],
      "metadata": {
        "id": "4j639qkFj9Wv"
      }
    },
    {
      "cell_type": "markdown",
      "source": [
        "Ans: The **regularization parameter (λ)** in Logistic Regression controls the strength of the regularization applied to the model. It affects how much the model's coefficients are penalized to prevent overfitting. Here's how the regularization parameter impacts the model:\n",
        "\n",
        "### 1. **When λ is large**:\n",
        "   - **Stronger Regularization**: The model will be penalized more for having large coefficients.\n",
        "   - **Coefficients shrink more**: As λ increases, the model coefficients get **smaller**, and some might even become exactly zero (especially in Lasso or Elastic Net).\n",
        "   - **Underfitting Risk**: If λ is too large, the model might become too simple, unable to capture the underlying patterns in the data, leading to **underfitting** (low model accuracy).\n",
        "\n",
        "### 2. **When λ is small (close to zero)**:\n",
        "   - **Weaker Regularization**: The model is less penalized, and the coefficients can grow larger.\n",
        "   - **Model complexity increases**: As λ approaches zero, the regularization effect weakens, allowing the model to fit the training data more closely.\n",
        "   - **Overfitting Risk**: If λ is too small, the model might **overfit** the training data, memorizing noise and failing to generalize well to unseen data.\n",
        "\n",
        "### 3. **Optimal λ (Tuning)**:\n",
        "   - The goal is to find the optimal value of λ that provides a balance between regularization and fitting the data. This is usually done through techniques like **cross-validation**, where the model is trained with different values of λ, and the best one is chosen based on performance.\n",
        "\n",
        "### In summary:\n",
        "- **Larger λ**: More regularization, smaller coefficients, reduced overfitting, but possible underfitting.\n",
        "- **Smaller λ**: Less regularization, larger coefficients, potential overfitting.\n",
        "\n",
        "Finding the right λ helps in making the model both **accurate** and **generalizable**."
      ],
      "metadata": {
        "id": "ZE5GFphvkBn6"
      }
    },
    {
      "cell_type": "markdown",
      "source": [
        "**9.What are the key assumptions of Logistic Regression?**"
      ],
      "metadata": {
        "id": "xthIbJ0ukKrI"
      }
    },
    {
      "cell_type": "markdown",
      "source": [
        "Ans: The key assumptions of **Logistic Regression** are:\n",
        "\n",
        "1. **Binary Outcome**:\n",
        "   - Logistic regression assumes that the dependent variable (target) is **binary** or **categorical** (e.g., 0/1, yes/no, true/false).\n",
        "\n",
        "2. **Linearity of Log-Odds**:\n",
        "   - Logistic regression assumes that there is a **linear relationship** between the independent variables (features) and the **log-odds** of the outcome. This means the log of the odds of the dependent variable being 1 is a linear combination of the predictors.\n",
        "\n",
        "3. **Independence of Observations**:\n",
        "   - The observations (data points) should be **independent** of each other. Each data point should not be related to another (no autocorrelation).\n",
        "\n",
        "4. **No Multicollinearity**:\n",
        "   - The model assumes that there is **no perfect multicollinearity** among the independent variables. This means that the predictors should not be highly correlated with each other, as it can lead to instability in the model’s estimates.\n",
        "\n",
        "5. **Large Sample Size**:\n",
        "   - Logistic regression typically requires a relatively **large sample size** to provide reliable and stable estimates, especially when the number of predictors is high.\n",
        "\n",
        "6. **Homoscedasticity (for residuals)**:\n",
        "   - Though not as strict as in linear regression, logistic regression assumes that the **variance of the residuals** (errors) is constant across all levels of the independent variables.\n",
        "\n",
        "7. **No Outliers**:\n",
        "   - Logistic regression is sensitive to **outliers** in the independent variables. Extreme outliers can affect the model's estimates and predictions.\n",
        "\n"
      ],
      "metadata": {
        "id": "CdBiyZVwkPCa"
      }
    },
    {
      "cell_type": "markdown",
      "source": [
        "**10.What are some alternatives to Logistic Regression for classification tasks?**"
      ],
      "metadata": {
        "id": "k9ZfTeTZkr-x"
      }
    },
    {
      "cell_type": "markdown",
      "source": [
        "Ans: Here are some **alternatives** to **Logistic Regression** for classification tasks:\n",
        "\n",
        "1. **Decision Trees**: Simple, interpretable, and handle non-linear relationships.\n",
        "2. **Random Forest**: Ensemble of decision trees, more accurate and robust.\n",
        "3. **Support Vector Machines (SVM)**: Effective for high-dimensional or non-linearly separable data.\n",
        "4. **k-Nearest Neighbors (k-NN)**: Simple, flexible, based on majority voting of nearest neighbors.\n",
        "5. **Naive Bayes**: Probabilistic model, works well with small or text data.\n",
        "6. **Gradient Boosting Machines (GBM)**: Sequential ensemble method, high accuracy but less interpretable.\n",
        "7. **Neural Networks**: Deep learning, effective for complex tasks like image or text classification.\n",
        "8. **K-means Clustering**: Unsupervised method, useful for clustering before classification.\n",
        "\n",
        "Each method has its strengths depending on data complexity, size, and task requirements."
      ],
      "metadata": {
        "id": "sHW6oV14kzCJ"
      }
    },
    {
      "cell_type": "markdown",
      "source": [
        "**11.What are Classification Evaluation Metrics?**"
      ],
      "metadata": {
        "id": "-jkfv6V9lLz8"
      }
    },
    {
      "cell_type": "markdown",
      "source": [
        "Ans: Here are the key **classification evaluation metrics** in short:\n",
        "\n",
        "1. **Accuracy**: Proportion of correct predictions (overall correctness).\n",
        "2. **Precision**: Correct positive predictions out of all predicted positives.\n",
        "3. **Recall**: Correct positive predictions out of all actual positives.\n",
        "4. **F1-Score**: Harmonic mean of precision and recall (balance between them).\n",
        "5. **ROC Curve & AUC**: Performance across thresholds, with AUC showing the classifier's ability to distinguish classes.\n",
        "6. **Confusion Matrix**: Table showing true positives, false positives, true negatives, and false negatives.\n",
        "7. **Specificity**: Correct negative predictions out of all actual negatives.\n",
        "8. **Log Loss**: Measures how well predicted probabilities match actual labels.\n",
        "\n",
        "The choice of metric depends on the data and the problem's needs (e.g., precision vs. recall)."
      ],
      "metadata": {
        "id": "v5kTfiUvlXDv"
      }
    },
    {
      "cell_type": "markdown",
      "source": [
        "**12.How does class imbalance affect Logistic Regression?**"
      ],
      "metadata": {
        "id": "KoMM1l6hli6r"
      }
    },
    {
      "cell_type": "markdown",
      "source": [
        "Ans:Class imbalance in **Logistic Regression** (and other machine learning models) occurs when one class (e.g., positive or negative) has significantly more instances than the other. This can negatively affect the model's performance in several ways:\n",
        "\n",
        "### 1. **Bias Toward the Majority Class**:\n",
        "   - The model will be biased toward predicting the majority class because it can achieve high accuracy by mostly predicting the dominant class. This can lead to poor performance on the minority class (often the more important class).\n",
        "\n",
        "### 2. **Poor Model Evaluation**:\n",
        "   - **Accuracy** becomes misleading, as a model that always predicts the majority class might still appear accurate even though it fails to predict the minority class correctly.\n",
        "   - Metrics like **precision**, **recall**, and **F1-score** are more informative for imbalanced datasets, as they focus on the performance with respect to both classes.\n",
        "\n",
        "### 3. **Overfitting on the Majority Class**:\n",
        "   - The model might **overfit** to the majority class, capturing its patterns well but missing those of the minority class, leading to poor generalization and predictive power for the minority class.\n",
        "\n",
        "### How to Handle Class Imbalance in Logistic Regression:\n",
        "\n",
        "1. **Resampling**:\n",
        "   - **Oversampling** the minority class or **undersampling** the majority class can balance the class distribution.\n",
        "   \n",
        "2. **Class Weights**:\n",
        "   - Assign higher weights to the minority class in the loss function, making the model pay more attention to misclassifications of the minority class.\n",
        "   \n",
        "3. **Alternative Metrics**:\n",
        "   - Use metrics like **Precision**, **Recall**, **F1-Score**, and **ROC-AUC** instead of accuracy to evaluate model performance.\n",
        "\n",
        "4. **Synthetic Data Generation**:\n",
        "   - Techniques like **SMOTE (Synthetic Minority Over-sampling Technique)** can generate synthetic samples for the minority class.\n"
      ],
      "metadata": {
        "id": "ENKR5rVIlm2n"
      }
    },
    {
      "cell_type": "markdown",
      "source": [
        "**13.What is Hyperparameter Tuning in Logistic Regression?**"
      ],
      "metadata": {
        "id": "1FQikAPQlxDS"
      }
    },
    {
      "cell_type": "markdown",
      "source": [
        "Ans:**Hyperparameter tuning** in **Logistic Regression** involves adjusting parameters that control the model's behavior, such as:\n",
        "\n",
        "1. **Regularization (C or λ)**: Controls model complexity; higher values (smaller λ) reduce regularization, while lower values (larger λ) increase regularization.\n",
        "2. **Solver**: The algorithm used for optimization (e.g., **'liblinear'**, **'lbfgs'**).\n",
        "3. **Max Iterations**: The number of iterations for the solver to converge.\n",
        "4. **Penalty**: Type of regularization (**'l1'**, **'l2'**, **'elasticnet'**).\n",
        "5. **Class Weight**: Adjusts the importance of different classes, useful for imbalanced data.\n",
        "\n",
        "**Tuning methods**: **Grid search** and **random search**, often combined with **cross-validation**, help find the best hyperparameters to improve model performance."
      ],
      "metadata": {
        "id": "vldV7LMXl25i"
      }
    },
    {
      "cell_type": "markdown",
      "source": [
        "**14.What are different solvers in Logistic Regression? Which one should be used?**"
      ],
      "metadata": {
        "id": "kCqErB30mKQY"
      }
    },
    {
      "cell_type": "markdown",
      "source": [
        "Ans: In Logistic Regression, the solver is the algorithm used to optimize the model's coefficients. Different solvers are available, each suited for different types of problems and datasets. Here are the main solvers used in Logistic Regression:\n",
        "\n",
        "1. **'liblinear'**:\n",
        "   - **Best for**: Small datasets and **L1 regularization** (Lasso).\n",
        "   - **Use it**: When working with small or sparse datasets, or if you need feature selection via **L1 regularization**.\n",
        "\n",
        "2. **'lbfgs'**:\n",
        "   - **Best for**: Large datasets and **L2 regularization** (Ridge).\n",
        "   - **Use it**: For memory efficiency and better performance on larger datasets with **L2 regularization**.\n",
        "\n",
        "3. **'newton-cg'**:\n",
        "   - **Best for**: Large datasets and **L2 regularization**.\n",
        "   - **Use it**: When you have large datasets but fewer features and want faster convergence with **L2 regularization**.\n",
        "\n",
        "4. **'saga'**:\n",
        "   - **Best for**: Large datasets and **ElasticNet regularization** (combines **L1** and **L2**).\n",
        "   - **Use it**: When you need **ElasticNet** regularization and are dealing with large datasets.\n",
        "\n",
        "Each solver is optimized for different types of datasets and regularization needs."
      ],
      "metadata": {
        "id": "34xOdUs_mPSX"
      }
    },
    {
      "cell_type": "markdown",
      "source": [
        "**15.How is Logistic Regression extended for multiclass classification?**"
      ],
      "metadata": {
        "id": "xJI3Fovomq87"
      }
    },
    {
      "cell_type": "markdown",
      "source": [
        "Ans: **Logistic Regression** can be extended to handle **multiclass classification** (when there are more than two classes) using two main approaches:\n",
        "\n",
        "### 1. **One-vs-Rest (OvR) / One-vs-All (OvA)**:\n",
        "   - **Concept**: This approach transforms the multiclass problem into multiple binary classification problems.\n",
        "     - For each class, we train a separate logistic regression model to distinguish that class from all others (binary classification).\n",
        "     - Each model predicts whether an instance belongs to the specific class or not.\n",
        "   - **How it works**:\n",
        "     - For **K** classes, K models are trained. Each model predicts if an instance belongs to that class (1) or not (0).\n",
        "     - The final prediction is made by selecting the class with the highest probability output from the models.\n",
        "   - **Example**: In a 3-class problem (A, B, C), we train 3 classifiers:\n",
        "     - Classifier 1: A vs. (B, C)\n",
        "     - Classifier 2: B vs. (A, C)\n",
        "     - Classifier 3: C vs. (A, B)\n",
        "\n",
        "### 2. **One-vs-One (OvO)**:\n",
        "   - **Concept**: This approach involves training a classifier for every possible pair of classes.\n",
        "     - For **K** classes, we train **K*(K-1)/2** classifiers, where each classifier distinguishes between two specific classes.\n",
        "     - Each classifier outputs the class label of the pair, and the final prediction is based on a **majority vote** from all classifiers.\n",
        "   - **Example**: For a 3-class problem (A, B, C), the classifiers are:\n",
        "     - Classifier 1: A vs. B\n",
        "     - Classifier 2: A vs. C\n",
        "     - Classifier 3: B vs. C\n",
        "\n",
        "### Which Approach to Choose?\n",
        "- **One-vs-Rest**:\n",
        "  - More efficient for **larger numbers of classes**, as only **K** classifiers are needed.\n",
        "  - Works well when classes are not mutually exclusive.\n",
        "  \n",
        "- **One-vs-One**:\n",
        "  - More accurate in some cases, especially when classes are well-separated.\n",
        "  - Requires more computation, as **K*(K-1)/2** classifiers are needed.\n"
      ],
      "metadata": {
        "id": "f1IE9wCqmzNm"
      }
    },
    {
      "cell_type": "markdown",
      "source": [
        "**16.What are the advantages and disadvantages of Logistic Regression?**"
      ],
      "metadata": {
        "id": "HmU-v_U7m9Uo"
      }
    },
    {
      "cell_type": "markdown",
      "source": [
        "Ans: **Advantages of Logistic Regression:**\n",
        "\n",
        "1. **Simplicity and Interpretability**:\n",
        "   - Logistic Regression is easy to implement and understand. The results are interpretable, making it easy to understand the influence of each feature on the outcome.\n",
        "\n",
        "2. **Efficiency**:\n",
        "   - It is computationally efficient and works well on small to medium-sized datasets. The model converges quickly and doesn't require a lot of memory.\n",
        "\n",
        "3. **Probabilistic Output**:\n",
        "   - Logistic Regression provides probabilistic outputs, giving the likelihood of a data point belonging to a particular class, which is useful in many real-world scenarios.\n",
        "\n",
        "4. **Works Well for Linearly Separable Data**:\n",
        "   - If the classes are linearly separable or nearly linearly separable, Logistic Regression performs very well.\n",
        "\n",
        "5. **Less Prone to Overfitting (with Regularization)**:\n",
        "   - Regularization techniques (like L2 regularization) can be used to prevent overfitting, especially when dealing with high-dimensional data.\n",
        "\n",
        "6. **Well-Established**:\n",
        "   - It's a widely used and well-studied algorithm with solid theoretical foundations.\n",
        "\n",
        "### **Disadvantages of Logistic Regression:**\n",
        "\n",
        "1. **Assumes Linear Decision Boundaries**:\n",
        "   - Logistic Regression assumes a linear relationship between the features and the log-odds of the outcome. It performs poorly if the data has complex, non-linear relationships unless you use feature engineering or transformations.\n",
        "\n",
        "2. **Sensitive to Outliers**:\n",
        "   - Logistic Regression can be sensitive to outliers in the data, which can significantly affect model performance.\n",
        "\n",
        "3. **Requires Feature Scaling**:\n",
        "   - The algorithm is sensitive to the scale of the features, so feature scaling (e.g., normalization or standardization) is usually required for better performance.\n",
        "\n",
        "4. **Struggles with Multicollinearity**:\n",
        "   - If the features are highly correlated (multicollinearity), Logistic Regression can have unstable estimates for the coefficients, making the model unreliable.\n",
        "\n",
        "5. **Not Ideal for Complex Models**:\n",
        "   - Logistic Regression may not perform well on very complex datasets, such as those with high non-linearity or requiring sophisticated modeling (e.g., images or time-series data).\n",
        "\n",
        "6. **Limited to Binary Classification (unless extended)**:\n",
        "   - By default, Logistic Regression is used for binary classification. While it can be extended to multiclass classification (e.g., One-vs-Rest, One-vs-One), these extensions can increase complexity.\n",
        "\n"
      ],
      "metadata": {
        "id": "tKTNYOMLnDz6"
      }
    },
    {
      "cell_type": "markdown",
      "source": [
        "**17.What are some use cases of Logistic Regression?**"
      ],
      "metadata": {
        "id": "ps0dVmcinXQJ"
      }
    },
    {
      "cell_type": "markdown",
      "source": [
        "Ans: **Use cases of Logistic Regression**:\n",
        "\n",
        "1. **Medical Diagnosis**: Predicting disease likelihood (e.g., cancer, diabetes).\n",
        "2. **Customer Churn Prediction**: Identifying if a customer will leave a service.\n",
        "3. **Email Spam Detection**: Classifying emails as spam or not.\n",
        "4. **Credit Scoring**: Predicting loan default risk.\n",
        "5. **Sentiment Analysis**: Classifying text as positive or negative.\n",
        "6. **Marketing**: Predicting customer behavior (e.g., ad click, purchase).\n",
        "7. **Fraud Detection**: Identifying fraudulent transactions.\n",
        "8. **Web Traffic Classification**: Predicting user actions (e.g., purchase or sign-up).\n",
        "9. **Election Prediction**: Estimating election outcomes.\n",
        "10. **Purchase Decisions**: Predicting customer purchases.\n",
        "\n",
        "Logistic Regression is widely used for binary and multiclass classification tasks across various industries."
      ],
      "metadata": {
        "id": "K5IiWJKinbQk"
      }
    },
    {
      "cell_type": "markdown",
      "source": [
        "**18.What is the difference between Softmax Regression and Logistic Regression?**"
      ],
      "metadata": {
        "id": "CVl-DIE_nlV3"
      }
    },
    {
      "cell_type": "markdown",
      "source": [
        "Ans: Here’s a **precise** comparison between **Softmax Regression** and **Logistic Regression**:\n",
        "\n",
        "1. **Purpose**:\n",
        "   - **Logistic Regression**: Used for **binary classification** (2 classes).\n",
        "   - **Softmax Regression**: Used for **multiclass classification** (more than 2 classes).\n",
        "\n",
        "2. **Output**:\n",
        "   - **Logistic Regression**: Outputs a **single probability** for one class (using **sigmoid**).\n",
        "   - **Softmax Regression**: Outputs a **probability distribution** across all classes (using **softmax**).\n",
        "\n",
        "3. **Mathematical Function**:\n",
        "   - **Logistic Regression**: Uses the **sigmoid function**:  \n",
        "     \\( P(y=1|X) = \\frac{1}{1 + e^{-z}} \\)\n",
        "   - **Softmax Regression**: Uses the **softmax function**:  \n",
        "     \\( P(y=k|X) = \\frac{e^{\\theta_k^T X}}{\\sum_{i=1}^K e^{\\theta_i^T X}} \\)\n",
        "\n",
        "4. **Number of Classes**:\n",
        "   - **Logistic Regression**: **Binary** classification (2 classes).\n",
        "   - **Softmax Regression**: **Multiclass** classification (more than 2 classes).\n",
        "\n",
        "### In Summary:\n",
        "- **Logistic Regression** is for **binary classification** with a single probability output.\n",
        "- **Softmax Regression** is for **multiclass classification** with a probability distribution output across multiple classes."
      ],
      "metadata": {
        "id": "6YuiitgQnsKM"
      }
    },
    {
      "cell_type": "markdown",
      "source": [
        "**19.How do we choose between One-vs-Rest (OvR) and Softmax for multiclass classification?**"
      ],
      "metadata": {
        "id": "klkMst1Zn9Kr"
      }
    },
    {
      "cell_type": "markdown",
      "source": [
        "Ans:**Choose One-vs-Rest (OvR)** if:\n",
        "- You have **many classes** and prefer **independent models** for each class.\n",
        "- Your classes are **imbalanced**.\n",
        "- You want to handle classes separately.\n",
        "\n",
        "**Choose Softmax** if:\n",
        "- You want to consider **class relationships** and need a **single model**.\n",
        "- You have a **smaller number of classes**.\n",
        "- Your data is more **balanced** and you want a **probabilistic output**.\n",
        "\n",
        "In short, **OvR** is better for large or imbalanced classes, while **Softmax** is ideal for smaller, balanced datasets with class dependencies."
      ],
      "metadata": {
        "id": "zwD11bP_oCdq"
      }
    },
    {
      "cell_type": "markdown",
      "source": [
        "**20.How do we interpret coefficients in Logistic Regression?**"
      ],
      "metadata": {
        "id": "EBSBG6JgoNed"
      }
    },
    {
      "cell_type": "markdown",
      "source": [
        "Ans: In **Logistic Regression**, the coefficients represent the relationship between the input features and the **log-odds** of the outcome. Here's how to interpret them:\n",
        "\n",
        "### 1. **Log-Odds Interpretation**:\n",
        "   - The logistic regression model predicts the **log-odds** of the target class.\n",
        "   - The equation is:  \n",
        "     \\[\n",
        "     \\log\\left(\\frac{P(y=1)}{1 - P(y=1)}\\right) = \\theta_0 + \\theta_1 X_1 + \\theta_2 X_2 + \\dots + \\theta_n X_n\n",
        "     \\]\n",
        "     Where \\( \\theta_1, \\theta_2, \\dots, \\theta_n \\) are the coefficients.\n",
        "\n",
        "### 2. **Exponentiation for Odds Ratio**:\n",
        "   - **Exponentiating the coefficient** \\( e^{\\theta_i} \\) gives the **odds ratio** for that feature.\n",
        "   - **Interpretation of Odds Ratio**:\n",
        "     - **If \\( e^{\\theta_i} > 1 \\)**: A one-unit increase in feature \\( X_i \\) increases the odds of the target class (class 1).\n",
        "     - **If \\( e^{\\theta_i} < 1 \\)**: A one-unit increase in feature \\( X_i \\) decreases the odds of the target class (class 1).\n",
        "     - **If \\( e^{\\theta_i} = 1 \\)**: No effect on the odds of the target class.\n",
        "\n",
        "### 3. **Example**:\n",
        "   - Suppose the coefficient for age (\\( \\theta_1 = 0.05 \\)) in a model predicting whether a customer buys a product.\n",
        "   - **Odds Ratio** for age:  \n",
        "     \\[\n",
        "     e^{0.05} \\approx 1.051\n",
        "     \\]\n",
        "     This means for each additional year of age, the odds of the customer buying the product increase by **5.1%**.\n",
        "\n",
        "### 4. **Intercept (θ₀)**:\n",
        "   - The **intercept** \\( \\theta_0 \\) represents the log-odds of the target when all features are zero.\n",
        "   - It serves as the **baseline** log-odds of the outcome."
      ],
      "metadata": {
        "id": "9JalTaEcoTE-"
      }
    },
    {
      "cell_type": "markdown",
      "source": [
        "##**Practical:**"
      ],
      "metadata": {
        "id": "YVHfKF5zoqu6"
      }
    },
    {
      "cell_type": "markdown",
      "source": [
        "**1.Write a Python program that loads a dataset, splits it into training and testing sets, applies Logistic Regression, and prints the model accuracy.**"
      ],
      "metadata": {
        "id": "zwRBvFUgo0NP"
      }
    },
    {
      "cell_type": "code",
      "source": [
        "import pandas as pd\n",
        "from sklearn.model_selection import train_test_split\n",
        "from sklearn.linear_model import LogisticRegression\n",
        "from sklearn.metrics import accuracy_score\n",
        "from sklearn.datasets import load_iris\n",
        "\n",
        "data = load_iris()\n",
        "X = data.data  # Features\n",
        "y = data.target  # Target variable\n",
        "\n",
        "X_train, X_test, y_train, y_test = train_test_split(X, y, test_size=0.2, random_state=42)\n",
        "\n",
        "\n",
        "model = LogisticRegression(max_iter=200)\n",
        "\n",
        "model.fit(X_train, y_train)\n",
        "\n",
        "# Predict on the test set\n",
        "y_pred = model.predict(X_test)\n",
        "\n",
        "accuracy = accuracy_score(y_test, y_pred)\n",
        "print(f'Model Accuracy: {accuracy * 100:.2f}%')\n"
      ],
      "metadata": {
        "colab": {
          "base_uri": "https://localhost:8080/"
        },
        "id": "b8MtNfAypAKc",
        "outputId": "7a98741a-f52d-4ef8-b4e1-83707f2bf352"
      },
      "execution_count": 2,
      "outputs": [
        {
          "output_type": "stream",
          "name": "stdout",
          "text": [
            "Model Accuracy: 100.00%\n"
          ]
        }
      ]
    },
    {
      "cell_type": "markdown",
      "source": [
        "**2.Write a Python program to apply L1 regularization (Lasso) on a dataset using LogisticRegression(penalty='l1') and print the model accuracy.**"
      ],
      "metadata": {
        "id": "7x2GlE4EpUrd"
      }
    },
    {
      "cell_type": "code",
      "source": [
        "import pandas as pd\n",
        "from sklearn.model_selection import train_test_split\n",
        "from sklearn.linear_model import LogisticRegression\n",
        "from sklearn.metrics import accuracy_score\n",
        "from sklearn.datasets import load_iris\n",
        "\n",
        "data = load_iris()\n",
        "X = data.data  # Features\n",
        "y = data.target  # Target variable\n",
        "\n",
        "# We will perform binary classification by selecting only two classes (0 and 1)\n",
        "X = X[y != 2]  # Remove class 2\n",
        "y = y[y != 2]  # Remove class 2\n",
        "\n",
        "# Split the data into training and testing sets (80% training, 20% testing)\n",
        "X_train, X_test, y_train, y_test = train_test_split(X, y, test_size=0.2, random_state=42)\n",
        "\n",
        "# Initialize the Logistic Regression model with L1 regularization (Lasso)\n",
        "model = LogisticRegression(penalty='l1', solver='liblinear')\n",
        "\n",
        "# Fit the model on the training data\n",
        "model.fit(X_train, y_train)\n",
        "\n",
        "# Predict on the test set\n",
        "y_pred = model.predict(X_test)\n",
        "\n",
        "# Calculate and print the accuracy of the model\n",
        "accuracy = accuracy_score(y_test, y_pred)\n",
        "print(f'Model Accuracy with L1 Regularization (Lasso): {accuracy * 100:.2f}%')\n"
      ],
      "metadata": {
        "colab": {
          "base_uri": "https://localhost:8080/"
        },
        "id": "qdw-bCwYpufy",
        "outputId": "5cee19f6-c0c4-44a0-edde-cd1223d20932"
      },
      "execution_count": 3,
      "outputs": [
        {
          "output_type": "stream",
          "name": "stdout",
          "text": [
            "Model Accuracy with L1 Regularization (Lasso): 100.00%\n"
          ]
        }
      ]
    },
    {
      "cell_type": "markdown",
      "source": [
        "**3.Write a Python program to train Logistic Regression with L2 regularization (Ridge) using LogisticRegression(penalty='l2'). Print model accuracy and coefficients.**"
      ],
      "metadata": {
        "id": "hClzYxZkqK6t"
      }
    },
    {
      "cell_type": "code",
      "source": [
        "import pandas as pd\n",
        "from sklearn.model_selection import train_test_split\n",
        "from sklearn.linear_model import LogisticRegression\n",
        "from sklearn.metrics import accuracy_score\n",
        "from sklearn.datasets import load_iris\n",
        "\n",
        "data = load_iris()\n",
        "X = data.data  # Features\n",
        "y = data.target  # Target variable\n",
        "\n",
        "# We will perform binary classification by selecting only two classes (0 and 1)\n",
        "X = X[y != 2]  # Remove class 2\n",
        "y = y[y != 2]  # Remove class 2\n",
        "\n",
        "# Split the data into training and testing sets (80% training, 20% testing)\n",
        "X_train, X_test, y_train, y_test = train_test_split(X, y, test_size=0.2, random_state=42)\n",
        "\n",
        "# Initialize the Logistic Regression model with L2 regularization (Ridge)\n",
        "model = LogisticRegression(penalty='l2', solver='liblinear')\n",
        "\n",
        "# Fit the model on the training data\n",
        "model.fit(X_train, y_train)\n",
        "\n",
        "# Predict on the test set\n",
        "y_pred = model.predict(X_test)\n",
        "\n",
        "# Calculate and print the accuracy of the model\n",
        "accuracy = accuracy_score(y_test, y_pred)\n",
        "print(f'Model Accuracy with L2 Regularization (Ridge): {accuracy * 100:.2f}%')\n",
        "\n",
        "# Print the coefficients (weights) of the model\n",
        "print(\"Model Coefficients (weights):\")\n",
        "print(model.coef_)\n"
      ],
      "metadata": {
        "colab": {
          "base_uri": "https://localhost:8080/"
        },
        "id": "OzI9AEsPq097",
        "outputId": "42f83962-e548-4f01-a961-c5b6afc862a7"
      },
      "execution_count": 4,
      "outputs": [
        {
          "output_type": "stream",
          "name": "stdout",
          "text": [
            "Model Accuracy with L2 Regularization (Ridge): 100.00%\n",
            "Model Coefficients (weights):\n",
            "[[-0.3753915  -1.39664105  2.15250857  0.96423532]]\n"
          ]
        }
      ]
    },
    {
      "cell_type": "markdown",
      "source": [
        "**4.Write a Python program to train Logistic Regression with Elastic Net Regularization (penalty='elasticnet').**"
      ],
      "metadata": {
        "id": "oCtc09p6rFI7"
      }
    },
    {
      "cell_type": "code",
      "source": [
        "import pandas as pd\n",
        "from sklearn.model_selection import train_test_split\n",
        "from sklearn.linear_model import LogisticRegression\n",
        "from sklearn.metrics import accuracy_score\n",
        "from sklearn.datasets import load_iris\n",
        "\n",
        "data = load_iris()\n",
        "X = data.data  # Features\n",
        "y = data.target  # Target variable\n",
        "\n",
        "# We will perform binary classification by selecting only two classes (0 and 1)\n",
        "X = X[y != 2]  # Remove class 2\n",
        "y = y[y != 2]  # Remove class 2\n",
        "\n",
        "# Split the data into training and testing sets (80% training, 20% testing)\n",
        "X_train, X_test, y_train, y_test = train_test_split(X, y, test_size=0.2, random_state=42)\n",
        "\n",
        "# Initialize the Logistic Regression model with Elastic Net regularization\n",
        "# Elastic Net uses both L1 and L2 regularization\n",
        "model = LogisticRegression(penalty='elasticnet', solver='saga', l1_ratio=0.5)\n",
        "\n",
        "# Fit the model on the training data\n",
        "model.fit(X_train, y_train)\n",
        "\n",
        "# Predict on the test set\n",
        "y_pred = model.predict(X_test)\n",
        "\n",
        "# Calculate and print the accuracy of the model\n",
        "accuracy = accuracy_score(y_test, y_pred)\n",
        "print(f'Model Accuracy with Elastic Net Regularization: {accuracy * 100:.2f}%')\n",
        "\n",
        "# Print the coefficients (weights) of the model\n",
        "print(\"Model Coefficients (weights):\")\n",
        "print(model.coef_)\n"
      ],
      "metadata": {
        "colab": {
          "base_uri": "https://localhost:8080/"
        },
        "id": "r-aZv4NMrNdC",
        "outputId": "f188dd35-5584-480f-d402-c6275e540675"
      },
      "execution_count": 5,
      "outputs": [
        {
          "output_type": "stream",
          "name": "stdout",
          "text": [
            "Model Accuracy with Elastic Net Regularization: 100.00%\n",
            "Model Coefficients (weights):\n",
            "[[-0.21425761 -1.56835043  2.32245802  0.69397267]]\n"
          ]
        },
        {
          "output_type": "stream",
          "name": "stderr",
          "text": [
            "/usr/local/lib/python3.11/dist-packages/sklearn/linear_model/_sag.py:348: ConvergenceWarning: The max_iter was reached which means the coef_ did not converge\n",
            "  warnings.warn(\n"
          ]
        }
      ]
    },
    {
      "cell_type": "markdown",
      "source": [
        "**5.Write a Python program to train a Logistic Regression model for multiclass classification using multi_class='ovr.**"
      ],
      "metadata": {
        "id": "xCS0VqzBrcx-"
      }
    },
    {
      "cell_type": "code",
      "source": [
        "from sklearn.datasets import load_iris\n",
        "from sklearn.model_selection import train_test_split\n",
        "from sklearn.linear_model import LogisticRegression\n",
        "from sklearn.metrics import accuracy_score\n",
        "\n",
        "data = load_iris()\n",
        "X = data.data  # Features\n",
        "y = data.target  # Target variable (multiclass labels)\n",
        "\n",
        "# Split the data into training and testing sets (80% training, 20% testing)\n",
        "X_train, X_test, y_train, y_test = train_test_split(X, y, test_size=0.2, random_state=42)\n",
        "\n",
        "# Initialize the Logistic Regression model with One-vs-Rest (OvR) strategy\n",
        "model = LogisticRegression(multi_class='ovr', solver='liblinear')\n",
        "\n",
        "# Fit the model on the training data\n",
        "model.fit(X_train, y_train)\n",
        "\n",
        "# Predict on the test set\n",
        "y_pred = model.predict(X_test)\n",
        "\n",
        "# Calculate and print the accuracy of the model\n",
        "accuracy = accuracy_score(y_test, y_pred)\n",
        "print(f'Model Accuracy with OvR multiclass: {accuracy * 100:.2f}%')\n",
        "\n",
        "# Print the coefficients (weights) of the model\n",
        "print(\"Model Coefficients (weights):\")\n",
        "print(model.coef_)"
      ],
      "metadata": {
        "colab": {
          "base_uri": "https://localhost:8080/"
        },
        "id": "-zHISkU2rvaf",
        "outputId": "55ccb605-04d0-4ddf-d4c3-0b3f5a3ee560"
      },
      "execution_count": 6,
      "outputs": [
        {
          "output_type": "stream",
          "name": "stdout",
          "text": [
            "Model Accuracy with OvR multiclass: 100.00%\n",
            "Model Coefficients (weights):\n",
            "[[ 0.3711229   1.409712   -2.15210117 -0.95474179]\n",
            " [ 0.49400451 -1.58897112  0.43717015 -1.11187838]\n",
            " [-1.55895271 -1.58893375  2.39874554  2.15556209]]\n"
          ]
        },
        {
          "output_type": "stream",
          "name": "stderr",
          "text": [
            "/usr/local/lib/python3.11/dist-packages/sklearn/linear_model/_logistic.py:1256: FutureWarning: 'multi_class' was deprecated in version 1.5 and will be removed in 1.7. Use OneVsRestClassifier(LogisticRegression(..)) instead. Leave it to its default value to avoid this warning.\n",
            "  warnings.warn(\n"
          ]
        }
      ]
    },
    {
      "cell_type": "markdown",
      "source": [
        "**6.Write a Python program to apply GridSearchCV to tune the hyperparameters (C and penalty) of Logistic Regression. Print the best parameters and accuracy.**"
      ],
      "metadata": {
        "id": "tpk4STshr_Xe"
      }
    },
    {
      "cell_type": "code",
      "source": [
        "import numpy as np\n",
        "from sklearn.model_selection import GridSearchCV\n",
        "from sklearn.linear_model import LogisticRegression\n",
        "from sklearn.datasets import load_iris\n",
        "from sklearn.model_selection import train_test_split\n",
        "from sklearn.metrics import accuracy_score\n",
        "\n",
        "data = load_iris()\n",
        "X = data.data\n",
        "y = data.target\n",
        "\n",
        "X_train, X_test, y_train, y_test = train_test_split(X, y, test_size=0.3, random_state=42)\n",
        "\n",
        "logreg = LogisticRegression(max_iter=1000)\n",
        "\n",
        "\n",
        "param_grid = {\n",
        "    'C': [0.01, 0.1, 1, 10, 100],  # Regularization strength\n",
        "    'penalty': ['l2', 'elasticnet']  # Penalty type\n",
        "}\n",
        "\n",
        "# Create a GridSearchCV object\n",
        "grid_search = GridSearchCV(estimator=logreg, param_grid=param_grid, cv=5, scoring='accuracy')\n",
        "\n",
        "# Fit the model to the training data\n",
        "grid_search.fit(X_train, y_train)\n",
        "\n",
        "# Print the best parameters and accuracy\n",
        "print(f\"Best Parameters: {grid_search.best_params_}\")\n",
        "print(f\"Best Cross-validation Accuracy: {grid_search.best_score_:.4f}\")\n",
        "\n",
        "# Predict on the test data\n",
        "y_pred = grid_search.best_estimator_.predict(X_test)\n",
        "\n",
        "# Print the test accuracy\n",
        "test_accuracy = accuracy_score(y_test, y_pred)\n",
        "print(f\"Test Accuracy: {test_accuracy:.4f}\")\n"
      ],
      "metadata": {
        "colab": {
          "base_uri": "https://localhost:8080/"
        },
        "id": "PZld_cO4sHtA",
        "outputId": "38d21bc6-4415-492e-ee71-e858d0106738"
      },
      "execution_count": 1,
      "outputs": [
        {
          "output_type": "stream",
          "name": "stdout",
          "text": [
            "Best Parameters: {'C': 1, 'penalty': 'l2'}\n",
            "Best Cross-validation Accuracy: 0.9619\n",
            "Test Accuracy: 1.0000\n"
          ]
        },
        {
          "output_type": "stream",
          "name": "stderr",
          "text": [
            "/usr/local/lib/python3.11/dist-packages/sklearn/model_selection/_validation.py:528: FitFailedWarning: \n",
            "25 fits failed out of a total of 50.\n",
            "The score on these train-test partitions for these parameters will be set to nan.\n",
            "If these failures are not expected, you can try to debug them by setting error_score='raise'.\n",
            "\n",
            "Below are more details about the failures:\n",
            "--------------------------------------------------------------------------------\n",
            "25 fits failed with the following error:\n",
            "Traceback (most recent call last):\n",
            "  File \"/usr/local/lib/python3.11/dist-packages/sklearn/model_selection/_validation.py\", line 866, in _fit_and_score\n",
            "    estimator.fit(X_train, y_train, **fit_params)\n",
            "  File \"/usr/local/lib/python3.11/dist-packages/sklearn/base.py\", line 1389, in wrapper\n",
            "    return fit_method(estimator, *args, **kwargs)\n",
            "           ^^^^^^^^^^^^^^^^^^^^^^^^^^^^^^^^^^^^^^\n",
            "  File \"/usr/local/lib/python3.11/dist-packages/sklearn/linear_model/_logistic.py\", line 1193, in fit\n",
            "    solver = _check_solver(self.solver, self.penalty, self.dual)\n",
            "             ^^^^^^^^^^^^^^^^^^^^^^^^^^^^^^^^^^^^^^^^^^^^^^^^^^^\n",
            "  File \"/usr/local/lib/python3.11/dist-packages/sklearn/linear_model/_logistic.py\", line 63, in _check_solver\n",
            "    raise ValueError(\n",
            "ValueError: Solver lbfgs supports only 'l2' or None penalties, got elasticnet penalty.\n",
            "\n",
            "  warnings.warn(some_fits_failed_message, FitFailedWarning)\n",
            "/usr/local/lib/python3.11/dist-packages/sklearn/model_selection/_search.py:1108: UserWarning: One or more of the test scores are non-finite: [0.86666667        nan 0.93333333        nan 0.96190476        nan\n",
            " 0.94285714        nan 0.95238095        nan]\n",
            "  warnings.warn(\n"
          ]
        }
      ]
    },
    {
      "cell_type": "markdown",
      "source": [
        "**7.Write a Python program to evaluate Logistic Regression using Stratified K-Fold Cross-Validation. Print the average accuracy.**"
      ],
      "metadata": {
        "id": "nmY_nc_vnaBZ"
      }
    },
    {
      "cell_type": "code",
      "source": [
        "import numpy as np\n",
        "from sklearn.linear_model import LogisticRegression\n",
        "from sklearn.datasets import load_iris\n",
        "from sklearn.model_selection import StratifiedKFold\n",
        "from sklearn.metrics import accuracy_score\n",
        "\n",
        "data = load_iris()\n",
        "X = data.data\n",
        "y = data.target\n",
        "\n",
        "logreg = LogisticRegression(max_iter=1000)\n",
        "\n",
        "skf = StratifiedKFold(n_splits=5, shuffle=True, random_state=42)\n",
        "\n",
        "accuracies = []\n",
        "\n",
        "for train_index, test_index in skf.split(X, y):\n",
        "    # Split the data into training and testing sets\n",
        "    X_train, X_test = X[train_index], X[test_index]\n",
        "    y_train, y_test = y[train_index], y[test_index]\n",
        "\n",
        "    # Fit the Logistic Regression model\n",
        "    logreg.fit(X_train, y_train)\n",
        "\n",
        "    # Predict on the test data\n",
        "    y_pred = logreg.predict(X_test)\n",
        "\n",
        "    # Calculate accuracy and append it to the accuracies list\n",
        "    accuracy = accuracy_score(y_test, y_pred)\n",
        "    accuracies.append(accuracy)\n",
        "\n",
        "average_accuracy = np.mean(accuracies)\n",
        "print(f\"Average Accuracy: {average_accuracy:.4f}\")"
      ],
      "metadata": {
        "colab": {
          "base_uri": "https://localhost:8080/"
        },
        "id": "yDCwQMR-nhmA",
        "outputId": "4b07044c-e872-4dcd-9428-5bf535d83dce"
      },
      "execution_count": 2,
      "outputs": [
        {
          "output_type": "stream",
          "name": "stdout",
          "text": [
            "Average Accuracy: 0.9667\n"
          ]
        }
      ]
    },
    {
      "cell_type": "markdown",
      "source": [
        "**8.Write a Python program to load a dataset from a CSV file, apply Logistic Regression, and evaluate its accuracy.**"
      ],
      "metadata": {
        "id": "DKfdQ4Wkn1So"
      }
    },
    {
      "cell_type": "code",
      "source": [
        "import pandas as pd\n",
        "from sklearn.model_selection import train_test_split\n",
        "from sklearn.linear_model import LogisticRegression\n",
        "from sklearn.metrics import accuracy_score\n",
        "from sklearn.preprocessing import LabelEncoder\n",
        "\n",
        "# Load the dataset from a CSV file\n",
        "data = pd.read_csv('spotify.csv')\n",
        "\n",
        "# Display the first few rows of the dataset (optional)\n",
        "print(data.head())\n",
        "\n",
        "# Handle non-numeric data:\n",
        "# 1. Convert any categorical columns to numeric using Label Encoding or One-Hot Encoding.\n",
        "# Assuming 'Artist' and 'Track Name' are categorical columns\n",
        "label_encoder = LabelEncoder()\n",
        "\n",
        "# Example of encoding categorical columns\n",
        "data['Artist'] = label_encoder.fit_transform(data['Artist'])\n",
        "data['Track Name'] = label_encoder.fit_transform(data['Track Name'])\n",
        "\n",
        "# If the 'Track ID' column is non-numeric, you may want to drop it (it doesn't affect the model)\n",
        "data = data.drop(columns=['Track ID'])\n",
        "\n",
        "# Now, the dataset should only have numeric columns.\n",
        "# Assuming the last column is the target variable (if the target is Popularity, for example):\n",
        "X = data.iloc[:, :-1].values  # Features (excluding the last column)\n",
        "y = data.iloc[:, -1].values   # Target variable (last column, e.g., 'Popularity')\n",
        "\n",
        "# Split the data into training and testing sets (80% train, 20% test)\n",
        "X_train, X_test, y_train, y_test = train_test_split(X, y, test_size=0.2, random_state=42)\n",
        "\n",
        "# Define and train the Logistic Regression model\n",
        "logreg = LogisticRegression(max_iter=1000)\n",
        "logreg.fit(X_train, y_train)\n",
        "\n",
        "# Make predictions on the test set\n",
        "y_pred = logreg.predict(X_test)\n",
        "\n",
        "# Calculate and print the accuracy\n",
        "accuracy = accuracy_score(y_test, y_pred)\n",
        "print(f\"Accuracy: {accuracy:.4f}\")"
      ],
      "metadata": {
        "colab": {
          "base_uri": "https://localhost:8080/"
        },
        "id": "4qt4XTpSpPUM",
        "outputId": "bb67377b-7757-4cfc-dc2f-1e579f52bbd1"
      },
      "execution_count": 6,
      "outputs": [
        {
          "output_type": "stream",
          "name": "stdout",
          "text": [
            "  Artist                               Track Name  Popularity  Duration (ms)  \\\n",
            "0  Drake  Rich Baby Daddy (feat. Sexyy Red & SZA)          92         319191   \n",
            "1  Drake                                One Dance          91         173986   \n",
            "2  Drake                       IDGAF (feat. Yeat)          90         260111   \n",
            "3  Drake     First Person Shooter (feat. J. Cole)          88         247444   \n",
            "4  Drake            Jimmy Cooks (feat. 21 Savage)          88         218364   \n",
            "\n",
            "                 Track ID  \n",
            "0  1yeB8MUNeLo9Ek1UEpsyz6  \n",
            "1  1zi7xx7UVEFkmKfv06H8x0  \n",
            "2  2YSzYUF3jWqb9YP9VXmpjE  \n",
            "3  7aqfrAY2p9BUSiupwk3svU  \n",
            "4  3F5CgOj3wFlRv51JsHbxhe  \n",
            "Accuracy: 0.0909\n"
          ]
        },
        {
          "output_type": "stream",
          "name": "stderr",
          "text": [
            "/usr/local/lib/python3.11/dist-packages/sklearn/linear_model/_logistic.py:465: ConvergenceWarning: lbfgs failed to converge (status=1):\n",
            "STOP: TOTAL NO. of ITERATIONS REACHED LIMIT.\n",
            "\n",
            "Increase the number of iterations (max_iter) or scale the data as shown in:\n",
            "    https://scikit-learn.org/stable/modules/preprocessing.html\n",
            "Please also refer to the documentation for alternative solver options:\n",
            "    https://scikit-learn.org/stable/modules/linear_model.html#logistic-regression\n",
            "  n_iter_i = _check_optimize_result(\n"
          ]
        }
      ]
    },
    {
      "cell_type": "markdown",
      "source": [
        "**9.Write a Python program to apply RandomizedSearchCV for tuning hyperparameters (C, penalty, solver) in Logistic Regression.Print the best parameters and accuracy.**"
      ],
      "metadata": {
        "id": "lsNcU_6ApYM8"
      }
    },
    {
      "cell_type": "code",
      "source": [
        "import pandas as pd\n",
        "from sklearn.model_selection import train_test_split, RandomizedSearchCV, StratifiedKFold\n",
        "from sklearn.linear_model import LogisticRegression\n",
        "from sklearn.metrics import accuracy_score\n",
        "from scipy.stats import uniform\n",
        "\n",
        "# Load and preprocess data (replace 'spotify.csv' with your dataset)\n",
        "data = pd.read_csv('spotify.csv')\n",
        "\n",
        "# Encoding categorical features (example: 'Artist' and 'Track Name' as categorical)\n",
        "from sklearn.preprocessing import LabelEncoder\n",
        "label_encoder = LabelEncoder()\n",
        "data['Artist'] = label_encoder.fit_transform(data['Artist'])\n",
        "data['Track Name'] = label_encoder.fit_transform(data['Track Name'])\n",
        "\n",
        "# Drop non-numeric columns (e.g., 'Track ID')\n",
        "data = data.drop(columns=['Track ID'])\n",
        "\n",
        "# Features and target\n",
        "X = data.iloc[:, :-1]  # Features (all columns except the last one)\n",
        "y = data.iloc[:, -1]   # Target (last column, e.g., 'Popularity')\n",
        "\n",
        "# Train-test split\n",
        "X_train, X_test, y_train, y_test = train_test_split(X, y, test_size=0.2, random_state=42)\n",
        "\n",
        "# Define Logistic Regression model\n",
        "logreg = LogisticRegression(max_iter=1000)\n",
        "\n",
        "# Define parameter distribution for RandomizedSearchCV\n",
        "param_dist = {\n",
        "    'C': uniform(loc=0.1, scale=10),  # Regularization strength (C)\n",
        "    'penalty': ['l1', 'l2'],  # Regularization type\n",
        "    'solver': ['liblinear', 'saga']  # Solvers for optimization\n",
        "}\n",
        "\n",
        "# Apply StratifiedKFold for RandomizedSearchCV\n",
        "cv = StratifiedKFold(n_splits=3, shuffle=True, random_state=42)  # Use fewer splits if needed\n",
        "\n",
        "# Apply RandomizedSearchCV with StratifiedKFold\n",
        "random_search = RandomizedSearchCV(estimator=logreg, param_distributions=param_dist, n_iter=100, cv=cv, n_jobs=-1, random_state=42)\n",
        "random_search.fit(X_train, y_train)\n",
        "\n",
        "# Print the best parameters found by RandomizedSearchCV\n",
        "print(f\"Best Parameters: {random_search.best_params_}\")\n",
        "\n",
        "# Predict on the test set\n",
        "y_pred = random_search.best_estimator_.predict(X_test)\n",
        "\n",
        "# Calculate and print the accuracy\n",
        "accuracy = accuracy_score(y_test, y_pred)\n",
        "print(f\"Accuracy: {accuracy:.4f}\")\n"
      ],
      "metadata": {
        "colab": {
          "base_uri": "https://localhost:8080/"
        },
        "id": "2ZqL31IVuf0p",
        "outputId": "d3d82c52-f1fe-4e69-c48e-9984d0ed3ecf"
      },
      "execution_count": 15,
      "outputs": [
        {
          "output_type": "stream",
          "name": "stderr",
          "text": [
            "/usr/local/lib/python3.11/dist-packages/sklearn/model_selection/_split.py:805: UserWarning: The least populated class in y has only 1 members, which is less than n_splits=3.\n",
            "  warnings.warn(\n"
          ]
        },
        {
          "output_type": "stream",
          "name": "stdout",
          "text": [
            "Best Parameters: {'C': 8.387375091519294, 'penalty': 'l2', 'solver': 'liblinear'}\n",
            "Accuracy: 0.0114\n"
          ]
        }
      ]
    },
    {
      "cell_type": "markdown",
      "source": [
        "**10.Write a Python program to implement One-vs-One (OvO) Multiclass Logistic Regression and print accuracy.**"
      ],
      "metadata": {
        "id": "z8d4yx1QsVuE"
      }
    },
    {
      "cell_type": "code",
      "source": [
        "import pandas as pd\n",
        "from sklearn.model_selection import train_test_split\n",
        "from sklearn.linear_model import LogisticRegression\n",
        "from sklearn.multiclass import OneVsOneClassifier\n",
        "from sklearn.metrics import accuracy_score\n",
        "from sklearn.preprocessing import LabelEncoder\n",
        "\n",
        "# Load and preprocess the dataset (replace 'spotify.csv' with your actual dataset)\n",
        "data = pd.read_csv('spotify.csv')\n",
        "\n",
        "# Encoding categorical features\n",
        "label_encoder = LabelEncoder()\n",
        "data['Artist'] = label_encoder.fit_transform(data['Artist'])\n",
        "data['Track Name'] = label_encoder.fit_transform(data['Track Name'])\n",
        "data = data.drop(columns=['Track ID'])  # Drop non-numeric column\n",
        "\n",
        "# Features and target\n",
        "X = data.iloc[:, :-1]  # Features (all columns except the last one)\n",
        "y = data.iloc[:, -1]   # Target (last column, e.g., 'Popularity')\n",
        "\n",
        "# Train-test split\n",
        "X_train, X_test, y_train, y_test = train_test_split(X, y, test_size=0.2, random_state=42)\n",
        "\n",
        "# Logistic Regression model\n",
        "logreg = LogisticRegression(max_iter=1000)\n",
        "\n",
        "# One-vs-One Multiclass classification\n",
        "ovo_classifier = OneVsOneClassifier(logreg)\n",
        "\n",
        "# Fit the model\n",
        "ovo_classifier.fit(X_train, y_train)\n",
        "\n",
        "# Predict on the test set\n",
        "y_pred = ovo_classifier.predict(X_test)\n",
        "\n",
        "accuracy = accuracy_score(y_test, y_pred)\n",
        "print(f\"Accuracy: {accuracy:.4f}\")"
      ],
      "metadata": {
        "colab": {
          "base_uri": "https://localhost:8080/"
        },
        "id": "27CP-dXYshGA",
        "outputId": "6af95e9f-0016-4fca-9cc8-1a64abf62a07"
      },
      "execution_count": 13,
      "outputs": [
        {
          "output_type": "stream",
          "name": "stdout",
          "text": [
            "Accuracy: 0.0909\n"
          ]
        }
      ]
    },
    {
      "cell_type": "markdown",
      "source": [
        "**11.Write a Python program to train a Logistic Regression model and visualize the confusion matrix for binary classification.**"
      ],
      "metadata": {
        "id": "dwmgw8tkv26w"
      }
    },
    {
      "cell_type": "code",
      "source": [
        "import pandas as pd\n",
        "import numpy as np\n",
        "from sklearn.model_selection import train_test_split\n",
        "from sklearn.linear_model import LogisticRegression\n",
        "from sklearn.metrics import confusion_matrix\n",
        "import seaborn as sns\n",
        "import matplotlib.pyplot as plt\n",
        "\n",
        "# Load and preprocess data (replace 'your_dataset.csv' with your dataset)\n",
        "data = pd.read_csv('spotify.csv')  # Example dataset\n",
        "\n",
        "# Encoding categorical features (for example, if 'Artist' is categorical)\n",
        "from sklearn.preprocessing import LabelEncoder\n",
        "label_encoder = LabelEncoder()\n",
        "data['Artist'] = label_encoder.fit_transform(data['Artist'])\n",
        "data['Track Name'] = label_encoder.fit_transform(data['Track Name'])\n",
        "\n",
        "# Drop non-numeric columns (e.g., 'Track ID')\n",
        "data = data.drop(columns=['Track ID'])\n",
        "\n",
        "# Features and target (assuming 'Popularity' is binary, you may need to adjust this)\n",
        "X = data.iloc[:, :-1]  # Features (all columns except the last one)\n",
        "y = data.iloc[:, -1]   # Target variable (binary classification: last column)\n",
        "\n",
        "# Train-test split\n",
        "X_train, X_test, y_train, y_test = train_test_split(X, y, test_size=0.2, random_state=42)\n",
        "\n",
        "# Define and train the Logistic Regression model\n",
        "logreg = LogisticRegression(max_iter=1000)\n",
        "logreg.fit(X_train, y_train)\n",
        "\n",
        "# Predict on the test set\n",
        "y_pred = logreg.predict(X_test)\n",
        "\n",
        "# Generate confusion matrix\n",
        "cm = confusion_matrix(y_test, y_pred)\n",
        "\n",
        "# Visualize the confusion matrix using seaborn\n",
        "plt.figure(figsize=(6, 6))\n",
        "sns.heatmap(cm, annot=True, fmt='d', cmap='Blues', xticklabels=['Predicted 0', 'Predicted 1'], yticklabels=['Actual 0', 'Actual 1'])\n",
        "plt.title('Confusion Matrix for Logistic Regression')\n",
        "plt.xlabel('Predicted')\n",
        "plt.ylabel('Actual')\n",
        "plt.show()\n"
      ],
      "metadata": {
        "colab": {
          "base_uri": "https://localhost:8080/",
          "height": 768
        },
        "id": "Frz6K8u7wESn",
        "outputId": "c704d581-4918-4bc3-ac8d-785d6bcf8071"
      },
      "execution_count": 16,
      "outputs": [
        {
          "output_type": "stream",
          "name": "stderr",
          "text": [
            "/usr/local/lib/python3.11/dist-packages/sklearn/linear_model/_logistic.py:465: ConvergenceWarning: lbfgs failed to converge (status=1):\n",
            "STOP: TOTAL NO. of ITERATIONS REACHED LIMIT.\n",
            "\n",
            "Increase the number of iterations (max_iter) or scale the data as shown in:\n",
            "    https://scikit-learn.org/stable/modules/preprocessing.html\n",
            "Please also refer to the documentation for alternative solver options:\n",
            "    https://scikit-learn.org/stable/modules/linear_model.html#logistic-regression\n",
            "  n_iter_i = _check_optimize_result(\n"
          ]
        },
        {
          "output_type": "display_data",
          "data": {
            "text/plain": [
              "<Figure size 600x600 with 2 Axes>"
            ],
            "image/png": "[encoded data removed]"
          },
          "metadata": {}
        }
      ]
    },
    {
      "cell_type": "markdown",
      "source": [
        "**12.Write a Python program to train a Logistic Regression model and evaluate its performance using Precision,Recall,and F1-Score.**"
      ],
      "metadata": {
        "id": "vOhr6_4PwZuK"
      }
    },
    {
      "cell_type": "code",
      "execution_count": 18,
      "metadata": {
        "id": "lyMmmoVZPDr8",
        "colab": {
          "base_uri": "https://localhost:8080/"
        },
        "outputId": "432ac9af-6a37-49fb-aced-585b41e5200e"
      },
      "outputs": [
        {
          "output_type": "stream",
          "name": "stderr",
          "text": [
            "/usr/local/lib/python3.11/dist-packages/sklearn/linear_model/_logistic.py:1256: FutureWarning: 'multi_class' was deprecated in version 1.5 and will be removed in 1.7. Use OneVsRestClassifier(LogisticRegression(..)) instead. Leave it to its default value to avoid this warning.\n",
            "  warnings.warn(\n"
          ]
        },
        {
          "output_type": "stream",
          "name": "stdout",
          "text": [
            "Precision: 0.0511\n",
            "Recall: 0.0568\n",
            "F1-Score: 0.0530\n"
          ]
        },
        {
          "output_type": "stream",
          "name": "stderr",
          "text": [
            "/usr/local/lib/python3.11/dist-packages/sklearn/metrics/_classification.py:1565: UndefinedMetricWarning: Precision is ill-defined and being set to 0.0 in labels with no predicted samples. Use `zero_division` parameter to control this behavior.\n",
            "  _warn_prf(average, modifier, f\"{metric.capitalize()} is\", len(result))\n",
            "/usr/local/lib/python3.11/dist-packages/sklearn/metrics/_classification.py:1565: UndefinedMetricWarning: Recall is ill-defined and being set to 0.0 in labels with no true samples. Use `zero_division` parameter to control this behavior.\n",
            "  _warn_prf(average, modifier, f\"{metric.capitalize()} is\", len(result))\n"
          ]
        }
      ],
      "source": [
        "import pandas as pd\n",
        "from sklearn.model_selection import train_test_split\n",
        "from sklearn.linear_model import LogisticRegression\n",
        "from sklearn.metrics import precision_score, recall_score, f1_score\n",
        "\n",
        "# Load and preprocess data (replace 'your_dataset.csv' with your dataset)\n",
        "data = pd.read_csv('spotify.csv')  # Example dataset\n",
        "\n",
        "# Encoding categorical features (for example, if 'Artist' is categorical)\n",
        "from sklearn.preprocessing import LabelEncoder\n",
        "label_encoder = LabelEncoder()\n",
        "data['Artist'] = label_encoder.fit_transform(data['Artist'])\n",
        "data['Track Name'] = label_encoder.fit_transform(data['Track Name'])\n",
        "\n",
        "# Drop non-numeric columns (e.g., 'Track ID')\n",
        "data = data.drop(columns=['Track ID'])\n",
        "\n",
        "# Features and target (assuming 'Popularity' is multiclass, you may need to adjust this)\n",
        "X = data.iloc[:, :-1]  # Features (all columns except the last one)\n",
        "y = data.iloc[:, -1]   # Target variable (multiclass classification: last column)\n",
        "\n",
        "# Train-test split\n",
        "X_train, X_test, y_train, y_test = train_test_split(X, y, test_size=0.2, random_state=42)\n",
        "\n",
        "# Define and train the Logistic Regression model\n",
        "logreg = LogisticRegression(max_iter=1000, multi_class='ovr')  # Using One-vs-Rest for multiclass\n",
        "logreg.fit(X_train, y_train)\n",
        "\n",
        "# Predict on the test set\n",
        "y_pred = logreg.predict(X_test)\n",
        "\n",
        "# Calculate Precision, Recall, and F1-Score with multiclass settings\n",
        "precision = precision_score(y_test, y_pred, average='weighted')\n",
        "recall = recall_score(y_test, y_pred, average='weighted')\n",
        "f1 = f1_score(y_test, y_pred, average='weighted')\n",
        "\n",
        "# Print the results\n",
        "print(f\"Precision: {precision:.4f}\")\n",
        "print(f\"Recall: {recall:.4f}\")\n",
        "print(f\"F1-Score: {f1:.4f}\")\n"
      ]
    },
    {
      "cell_type": "markdown",
      "source": [
        "**13.Write a Python program to train a Logistic Regression model on imbalanced data and apply class weights to improve model performance.**"
      ],
      "metadata": {
        "id": "zQ0je0uaw-wS"
      }
    },
    {
      "cell_type": "code",
      "source": [
        "import pandas as pd\n",
        "from sklearn.model_selection import train_test_split\n",
        "from sklearn.linear_model import LogisticRegression\n",
        "from sklearn.metrics import precision_score, recall_score, f1_score\n",
        "\n",
        "# Example of an imbalanced dataset (Replace with your actual dataset)\n",
        "# Load the data (replace 'your_dataset.csv' with your own CSV file)\n",
        "data = pd.read_csv('spotify.csv')\n",
        "\n",
        "# Encoding categorical features (e.g., 'Artist' and 'Track Name')\n",
        "from sklearn.preprocessing import LabelEncoder\n",
        "label_encoder = LabelEncoder()\n",
        "data['Artist'] = label_encoder.fit_transform(data['Artist'])\n",
        "data['Track Name'] = label_encoder.fit_transform(data['Track Name'])\n",
        "\n",
        "# Drop non-numeric columns (e.g., 'Track ID')\n",
        "data = data.drop(columns=['Track ID'])\n",
        "\n",
        "# Features and target (assuming 'Popularity' is multiclass, not binary)\n",
        "X = data.iloc[:, :-1]  # Features (all columns except the last one)\n",
        "y = data.iloc[:, -1]   # Target variable (multiclass classification: last column)\n",
        "\n",
        "# Train-test split\n",
        "X_train, X_test, y_train, y_test = train_test_split(X, y, test_size=0.2, random_state=42)\n",
        "\n",
        "# Define the Logistic Regression model with class weights ('balanced')\n",
        "logreg = LogisticRegression(max_iter=1000, class_weight='balanced', multi_class='ovr')\n",
        "\n",
        "# Train the model\n",
        "logreg.fit(X_train, y_train)\n",
        "\n",
        "# Predict on the test set\n",
        "y_pred = logreg.predict(X_test)\n",
        "\n",
        "# Calculate Precision, Recall, and F1-Score for multiclass (set the `average` parameter)\n",
        "precision = precision_score(y_test, y_pred, average='macro')  # Options: 'micro', 'macro', 'weighted'\n",
        "recall = recall_score(y_test, y_pred, average='macro')        # Options: 'micro', 'macro', 'weighted'\n",
        "f1 = f1_score(y_test, y_pred, average='macro')                # Options: 'micro', 'macro', 'weighted'\n",
        "\n",
        "# Print the results\n",
        "print(f\"Precision: {precision:.4f}\")\n",
        "print(f\"Recall: {recall:.4f}\")\n",
        "print(f\"F1-Score: {f1:.4f}\")\n"
      ],
      "metadata": {
        "colab": {
          "base_uri": "https://localhost:8080/"
        },
        "id": "glMMS_s8xb8b",
        "outputId": "de4d9653-4598-4128-be21-ff5045c4cf31"
      },
      "execution_count": 20,
      "outputs": [
        {
          "output_type": "stream",
          "name": "stderr",
          "text": [
            "/usr/local/lib/python3.11/dist-packages/sklearn/linear_model/_logistic.py:1256: FutureWarning: 'multi_class' was deprecated in version 1.5 and will be removed in 1.7. Use OneVsRestClassifier(LogisticRegression(..)) instead. Leave it to its default value to avoid this warning.\n",
            "  warnings.warn(\n"
          ]
        },
        {
          "output_type": "stream",
          "name": "stdout",
          "text": [
            "Precision: 0.0065\n",
            "Recall: 0.0065\n",
            "F1-Score: 0.0065\n"
          ]
        },
        {
          "output_type": "stream",
          "name": "stderr",
          "text": [
            "/usr/local/lib/python3.11/dist-packages/sklearn/metrics/_classification.py:1565: UndefinedMetricWarning: Precision is ill-defined and being set to 0.0 in labels with no predicted samples. Use `zero_division` parameter to control this behavior.\n",
            "  _warn_prf(average, modifier, f\"{metric.capitalize()} is\", len(result))\n",
            "/usr/local/lib/python3.11/dist-packages/sklearn/metrics/_classification.py:1565: UndefinedMetricWarning: Recall is ill-defined and being set to 0.0 in labels with no true samples. Use `zero_division` parameter to control this behavior.\n",
            "  _warn_prf(average, modifier, f\"{metric.capitalize()} is\", len(result))\n"
          ]
        }
      ]
    },
    {
      "cell_type": "markdown",
      "source": [
        "**14.Write a Python program to train Logistic Regression on the Titanic dataset, handle missing values,and evaluate performance.**"
      ],
      "metadata": {
        "id": "TEjogvGTxhBU"
      }
    },
    {
      "cell_type": "code",
      "source": [
        "import pandas as pd\n",
        "from sklearn.model_selection import train_test_split\n",
        "from sklearn.linear_model import LogisticRegression\n",
        "from sklearn.metrics import accuracy_score, precision_score, recall_score, f1_score\n",
        "from sklearn.preprocessing import LabelEncoder\n",
        "from sklearn.impute import SimpleImputer\n",
        "from sklearn.preprocessing import StandardScaler\n",
        "\n",
        "# Load the Titanic dataset\n",
        "url = \"https://raw.githubusercontent.com/datasciencedojo/datasets/master/titanic.csv\"\n",
        "data = pd.read_csv(url)\n",
        "\n",
        "# Display the first few rows of the dataset\n",
        "print(data.head())\n",
        "\n",
        "# Handle missing values\n",
        "# Use SimpleImputer to fill missing numeric values with the median\n",
        "imputer = SimpleImputer(strategy='median')\n",
        "data[['Age', 'Fare']] = imputer.fit_transform(data[['Age', 'Fare']])\n",
        "\n",
        "# Fill missing categorical values ('Embarked' and 'Cabin') with the most frequent category\n",
        "data['Embarked'] = data['Embarked'].fillna(data['Embarked'].mode()[0])\n",
        "\n",
        "# Drop columns that won't be used in the model (e.g., 'Name', 'Ticket', 'Cabin', 'PassengerId')\n",
        "data = data.drop(columns=['Name', 'Ticket', 'Cabin', 'PassengerId'])\n",
        "\n",
        "# Encode categorical features (e.g., 'Sex' and 'Embarked')\n",
        "label_encoder = LabelEncoder()\n",
        "data['Sex'] = label_encoder.fit_transform(data['Sex'])\n",
        "data['Embarked'] = label_encoder.fit_transform(data['Embarked'])\n",
        "\n",
        "# Features (X) and target variable (y)\n",
        "X = data.drop(columns='Survived')  # Features (everything except 'Survived')\n",
        "y = data['Survived']  # Target variable (Survived: 1 or 0)\n",
        "\n",
        "# Split the data into training and testing sets (80% train, 20% test)\n",
        "X_train, X_test, y_train, y_test = train_test_split(X, y, test_size=0.2, random_state=42)\n",
        "\n",
        "# Scale the features (optional but can help with model performance)\n",
        "scaler = StandardScaler()\n",
        "X_train = scaler.fit_transform(X_train)\n",
        "X_test = scaler.transform(X_test)\n",
        "\n",
        "# Initialize and train the Logistic Regression model\n",
        "logreg = LogisticRegression(max_iter=1000)\n",
        "logreg.fit(X_train, y_train)\n",
        "\n",
        "# Predict on the test set\n",
        "y_pred = logreg.predict(X_test)\n",
        "\n",
        "# Evaluate the performance of the model\n",
        "accuracy = accuracy_score(y_test, y_pred)\n",
        "precision = precision_score(y_test, y_pred)\n",
        "recall = recall_score(y_test, y_pred)\n",
        "f1 = f1_score(y_test, y_pred)\n",
        "\n",
        "# Print the evaluation metrics\n",
        "print(f\"Accuracy: {accuracy:.4f}\")\n",
        "print(f\"Precision: {precision:.4f}\")\n",
        "print(f\"Recall: {recall:.4f}\")\n",
        "print(f\"F1-Score: {f1:.4f}\")\n"
      ],
      "metadata": {
        "colab": {
          "base_uri": "https://localhost:8080/"
        },
        "id": "LipmNHD9xn8P",
        "outputId": "b3b36cfa-ffc8-4cfd-d414-bc3db50c7f1d"
      },
      "execution_count": 21,
      "outputs": [
        {
          "output_type": "stream",
          "name": "stdout",
          "text": [
            "   PassengerId  Survived  Pclass  \\\n",
            "0            1         0       3   \n",
            "1            2         1       1   \n",
            "2            3         1       3   \n",
            "3            4         1       1   \n",
            "4            5         0       3   \n",
            "\n",
            "                                                Name     Sex   Age  SibSp  \\\n",
            "0                            Braund, Mr. Owen Harris    male  22.0      1   \n",
            "1  Cumings, Mrs. John Bradley (Florence Briggs Th...  female  38.0      1   \n",
            "2                             Heikkinen, Miss. Laina  female  26.0      0   \n",
            "3       Futrelle, Mrs. Jacques Heath (Lily May Peel)  female  35.0      1   \n",
            "4                           Allen, Mr. William Henry    male  35.0      0   \n",
            "\n",
            "   Parch            Ticket     Fare Cabin Embarked  \n",
            "0      0         A/5 21171   7.2500   NaN        S  \n",
            "1      0          PC 17599  71.2833   C85        C  \n",
            "2      0  STON/O2. 3101282   7.9250   NaN        S  \n",
            "3      0            113803  53.1000  C123        S  \n",
            "4      0            373450   8.0500   NaN        S  \n",
            "Accuracy: 0.8045\n",
            "Precision: 0.7826\n",
            "Recall: 0.7297\n",
            "F1-Score: 0.7552\n"
          ]
        }
      ]
    },
    {
      "cell_type": "markdown",
      "source": [
        "**15.Write a Python program to apply feature scaling (Standardization) before training a Logistic Regression model.Evaluate its accuracy and compare results with and without scaling.**"
      ],
      "metadata": {
        "id": "Wgda7fIgz9Xh"
      }
    },
    {
      "cell_type": "code",
      "source": [
        "import pandas as pd\n",
        "from sklearn.model_selection import train_test_split\n",
        "from sklearn.linear_model import LogisticRegression\n",
        "from sklearn.metrics import accuracy_score\n",
        "from sklearn.preprocessing import StandardScaler\n",
        "\n",
        "# Load the Titanic dataset\n",
        "url = \"https://raw.githubusercontent.com/datasciencedojo/datasets/master/titanic.csv\"\n",
        "data = pd.read_csv(url)\n",
        "\n",
        "# Handle missing values\n",
        "# Use SimpleImputer to fill missing numeric values with the median\n",
        "from sklearn.impute import SimpleImputer\n",
        "imputer = SimpleImputer(strategy='median')\n",
        "data[['Age', 'Fare']] = imputer.fit_transform(data[['Age', 'Fare']])\n",
        "\n",
        "# Fill missing categorical values ('Embarked') with the most frequent category\n",
        "data['Embarked'] = data['Embarked'].fillna(data['Embarked'].mode()[0])\n",
        "\n",
        "# Drop columns that won't be used in the model (e.g., 'Name', 'Ticket', 'Cabin', 'PassengerId')\n",
        "data = data.drop(columns=['Name', 'Ticket', 'Cabin', 'PassengerId'])\n",
        "\n",
        "# Encode categorical features (e.g., 'Sex' and 'Embarked')\n",
        "from sklearn.preprocessing import LabelEncoder\n",
        "label_encoder = LabelEncoder()\n",
        "data['Sex'] = label_encoder.fit_transform(data['Sex'])\n",
        "data['Embarked'] = label_encoder.fit_transform(data['Embarked'])\n",
        "\n",
        "# Features (X) and target variable (y)\n",
        "X = data.drop(columns='Survived')  # Features (everything except 'Survived')\n",
        "y = data['Survived']  # Target variable (Survived: 1 or 0)\n",
        "\n",
        "# Split the data into training and testing sets (80% train, 20% test)\n",
        "X_train, X_test, y_train, y_test = train_test_split(X, y, test_size=0.2, random_state=42)\n",
        "\n",
        "# 1. Model without scaling\n",
        "logreg = LogisticRegression(max_iter=1000)\n",
        "logreg.fit(X_train, y_train)\n",
        "\n",
        "# Predict and evaluate accuracy for the model without scaling\n",
        "y_pred = logreg.predict(X_test)\n",
        "accuracy_no_scaling = accuracy_score(y_test, y_pred)\n",
        "print(f\"Accuracy without scaling: {accuracy_no_scaling:.4f}\")\n",
        "\n",
        "# 2. Model with scaling (Standardization)\n",
        "scaler = StandardScaler()\n",
        "X_train_scaled = scaler.fit_transform(X_train)  # Fit and transform on training data\n",
        "X_test_scaled = scaler.transform(X_test)  # Transform on test data using the scaler\n",
        "\n",
        "# Train the model with scaled features\n",
        "logreg.fit(X_train_scaled, y_train)\n",
        "\n",
        "# Predict and evaluate accuracy for the model with scaling\n",
        "y_pred_scaled = logreg.predict(X_test_scaled)\n",
        "accuracy_with_scaling = accuracy_score(y_test, y_pred_scaled)\n",
        "print(f\"Accuracy with scaling: {accuracy_with_scaling:.4f}\")\n"
      ],
      "metadata": {
        "colab": {
          "base_uri": "https://localhost:8080/"
        },
        "id": "PysgNVVo0Iat",
        "outputId": "88fe2fea-7a3b-47a9-8653-591c32c0fc65"
      },
      "execution_count": 22,
      "outputs": [
        {
          "output_type": "stream",
          "name": "stdout",
          "text": [
            "Accuracy without scaling: 0.8101\n",
            "Accuracy with scaling: 0.8045\n"
          ]
        }
      ]
    },
    {
      "cell_type": "markdown",
      "source": [
        "**16.Write a Python program to train Logistic Regression and evaluate its performance using ROC-AUC score.**"
      ],
      "metadata": {
        "id": "tD7632aQ0Vxf"
      }
    },
    {
      "cell_type": "code",
      "source": [
        "import pandas as pd\n",
        "from sklearn.model_selection import train_test_split\n",
        "from sklearn.linear_model import LogisticRegression\n",
        "from sklearn.metrics import roc_auc_score\n",
        "from sklearn.preprocessing import StandardScaler\n",
        "\n",
        "# Load the Titanic dataset\n",
        "url = \"https://raw.githubusercontent.com/datasciencedojo/datasets/master/titanic.csv\"\n",
        "data = pd.read_csv(url)\n",
        "\n",
        "# Handle missing values\n",
        "from sklearn.impute import SimpleImputer\n",
        "imputer = SimpleImputer(strategy='median')\n",
        "data[['Age', 'Fare']] = imputer.fit_transform(data[['Age', 'Fare']])\n",
        "\n",
        "# Fill missing categorical values ('Embarked') with the most frequent category\n",
        "data['Embarked'] = data['Embarked'].fillna(data['Embarked'].mode()[0])\n",
        "\n",
        "# Drop columns that won't be used in the model (e.g., 'Name', 'Ticket', 'Cabin', 'PassengerId')\n",
        "data = data.drop(columns=['Name', 'Ticket', 'Cabin', 'PassengerId'])\n",
        "\n",
        "# Encode categorical features (e.g., 'Sex' and 'Embarked')\n",
        "from sklearn.preprocessing import LabelEncoder\n",
        "label_encoder = LabelEncoder()\n",
        "data['Sex'] = label_encoder.fit_transform(data['Sex'])\n",
        "data['Embarked'] = label_encoder.fit_transform(data['Embarked'])\n",
        "\n",
        "# Features (X) and target variable (y)\n",
        "X = data.drop(columns='Survived')  # Features (everything except 'Survived')\n",
        "y = data['Survived']  # Target variable (Survived: 1 or 0)\n",
        "\n",
        "# Split the data into training and testing sets (80% train, 20% test)\n",
        "X_train, X_test, y_train, y_test = train_test_split(X, y, test_size=0.2, random_state=42)\n",
        "\n",
        "# Standardize the features (feature scaling)\n",
        "scaler = StandardScaler()\n",
        "X_train_scaled = scaler.fit_transform(X_train)\n",
        "X_test_scaled = scaler.transform(X_test)\n",
        "\n",
        "# Train the Logistic Regression model\n",
        "logreg = LogisticRegression(max_iter=1000)\n",
        "logreg.fit(X_train_scaled, y_train)\n",
        "\n",
        "# Predict probabilities for the positive class (1)\n",
        "y_pred_prob = logreg.predict_proba(X_test_scaled)[:, 1]\n",
        "\n",
        "# Calculate the ROC-AUC score\n",
        "roc_auc = roc_auc_score(y_test, y_pred_prob)\n",
        "\n",
        "print(f\"ROC-AUC Score: {roc_auc:.4f}\")\n"
      ],
      "metadata": {
        "colab": {
          "base_uri": "https://localhost:8080/"
        },
        "id": "rwrz6bge0a7c",
        "outputId": "4230a89f-c018-4218-900f-df830db5206f"
      },
      "execution_count": 23,
      "outputs": [
        {
          "output_type": "stream",
          "name": "stdout",
          "text": [
            "ROC-AUC Score: 0.8819\n"
          ]
        }
      ]
    },
    {
      "cell_type": "markdown",
      "source": [
        "**17.Write a Python program to train Logistic Regression using a custom learning rate (C=0.5) and evaluate accuracy.**"
      ],
      "metadata": {
        "id": "3AvNCmkN0lEX"
      }
    },
    {
      "cell_type": "code",
      "source": [
        "import pandas as pd\n",
        "from sklearn.model_selection import train_test_split\n",
        "from sklearn.linear_model import LogisticRegression\n",
        "from sklearn.metrics import accuracy_score\n",
        "from sklearn.preprocessing import StandardScaler\n",
        "\n",
        "# Load the Titanic dataset (or use your own dataset)\n",
        "url = \"https://raw.githubusercontent.com/datasciencedojo/datasets/master/titanic.csv\"\n",
        "data = pd.read_csv(url)\n",
        "\n",
        "# Handle missing values\n",
        "from sklearn.impute import SimpleImputer\n",
        "imputer = SimpleImputer(strategy='median')\n",
        "data[['Age', 'Fare']] = imputer.fit_transform(data[['Age', 'Fare']])\n",
        "\n",
        "# Fill missing categorical values ('Embarked') with the most frequent category\n",
        "data['Embarked'] = data['Embarked'].fillna(data['Embarked'].mode()[0])\n",
        "\n",
        "# Drop columns that won't be used in the model (e.g., 'Name', 'Ticket', 'Cabin', 'PassengerId')\n",
        "data = data.drop(columns=['Name', 'Ticket', 'Cabin', 'PassengerId'])\n",
        "\n",
        "# Encode categorical features (e.g., 'Sex' and 'Embarked')\n",
        "from sklearn.preprocessing import LabelEncoder\n",
        "label_encoder = LabelEncoder()\n",
        "data['Sex'] = label_encoder.fit_transform(data['Sex'])\n",
        "data['Embarked'] = label_encoder.fit_transform(data['Embarked'])\n",
        "\n",
        "# Features (X) and target variable (y)\n",
        "X = data.drop(columns='Survived')  # Features (everything except 'Survived')\n",
        "y = data['Survived']  # Target variable (Survived: 1 or 0)\n",
        "\n",
        "# Split the data into training and testing sets (80% train, 20% test)\n",
        "X_train, X_test, y_train, y_test = train_test_split(X, y, test_size=0.2, random_state=42)\n",
        "\n",
        "# Standardize the features (feature scaling)\n",
        "scaler = StandardScaler()\n",
        "X_train_scaled = scaler.fit_transform(X_train)\n",
        "X_test_scaled = scaler.transform(X_test)\n",
        "\n",
        "# Train the Logistic Regression model with a custom learning rate (C=0.5)\n",
        "logreg = LogisticRegression(C=0.5, max_iter=1000)\n",
        "logreg.fit(X_train_scaled, y_train)\n",
        "\n",
        "# Make predictions on the test set\n",
        "y_pred = logreg.predict(X_test_scaled)\n",
        "\n",
        "# Calculate the accuracy\n",
        "accuracy = accuracy_score(y_test, y_pred)\n",
        "\n",
        "print(f\"Accuracy: {accuracy:.4f}\")\n"
      ],
      "metadata": {
        "colab": {
          "base_uri": "https://localhost:8080/"
        },
        "id": "5qkuUBWz01w5",
        "outputId": "f1284649-cc6b-444b-b913-5b2959bb11ed"
      },
      "execution_count": 24,
      "outputs": [
        {
          "output_type": "stream",
          "name": "stdout",
          "text": [
            "Accuracy: 0.8045\n"
          ]
        }
      ]
    },
    {
      "cell_type": "markdown",
      "source": [
        "**18.Write a Python program to train Logistic Regression and identify important features based on model coefficients.**"
      ],
      "metadata": {
        "id": "txl4-lZ81CFe"
      }
    },
    {
      "cell_type": "code",
      "source": [
        "import pandas as pd\n",
        "from sklearn.model_selection import train_test_split\n",
        "from sklearn.linear_model import LogisticRegression\n",
        "from sklearn.preprocessing import StandardScaler\n",
        "from sklearn.impute import SimpleImputer\n",
        "\n",
        "# Load the Titanic dataset (or use your own dataset)\n",
        "url = \"https://raw.githubusercontent.com/datasciencedojo/datasets/master/titanic.csv\"\n",
        "data = pd.read_csv(url)\n",
        "\n",
        "# Handle missing values\n",
        "imputer = SimpleImputer(strategy='median')\n",
        "data[['Age', 'Fare']] = imputer.fit_transform(data[['Age', 'Fare']])\n",
        "\n",
        "# Fill missing categorical values ('Embarked') with the most frequent category\n",
        "data['Embarked'] = data['Embarked'].fillna(data['Embarked'].mode()[0])\n",
        "\n",
        "# Drop columns that won't be used in the model (e.g., 'Name', 'Ticket', 'Cabin', 'PassengerId')\n",
        "data = data.drop(columns=['Name', 'Ticket', 'Cabin', 'PassengerId'])\n",
        "\n",
        "# Encode categorical features (e.g., 'Sex' and 'Embarked')\n",
        "from sklearn.preprocessing import LabelEncoder\n",
        "label_encoder = LabelEncoder()\n",
        "data['Sex'] = label_encoder.fit_transform(data['Sex'])\n",
        "data['Embarked'] = label_encoder.fit_transform(data['Embarked'])\n",
        "\n",
        "# Features (X) and target variable (y)\n",
        "X = data.drop(columns='Survived')  # Features (everything except 'Survived')\n",
        "y = data['Survived']  # Target variable (Survived: 1 or 0)\n",
        "\n",
        "# Split the data into training and testing sets (80% train, 20% test)\n",
        "X_train, X_test, y_train, y_test = train_test_split(X, y, test_size=0.2, random_state=42)\n",
        "\n",
        "# Standardize the features (feature scaling)\n",
        "scaler = StandardScaler()\n",
        "X_train_scaled = scaler.fit_transform(X_train)\n",
        "X_test_scaled = scaler.transform(X_test)\n",
        "\n",
        "# Train the Logistic Regression model\n",
        "logreg = LogisticRegression(max_iter=1000)\n",
        "logreg.fit(X_train_scaled, y_train)\n",
        "\n",
        "# Get the model coefficients\n",
        "coefficients = logreg.coef_[0]\n",
        "\n",
        "# Map the coefficients to feature names\n",
        "feature_importance = pd.DataFrame({\n",
        "    'Feature': X.columns,\n",
        "    'Coefficient': coefficients\n",
        "})\n",
        "\n",
        "# Sort the features by the absolute value of their coefficients\n",
        "feature_importance['AbsCoefficient'] = feature_importance['Coefficient'].abs()\n",
        "feature_importance = feature_importance.sort_values(by='AbsCoefficient', ascending=False)\n",
        "\n",
        "# Print the most important features\n",
        "print(\"Important Features based on model coefficients:\")\n",
        "print(feature_importance[['Feature', 'Coefficient']])\n",
        "\n",
        "# Optionally, plot the coefficients\n",
        "import matplotlib.pyplot as plt\n",
        "\n",
        "plt.figure(figsize=(10, 6))\n",
        "plt.barh(feature_importance['Feature'], feature_importance['Coefficient'])\n",
        "plt.xlabel('Coefficient Value')\n",
        "plt.title('Logistic Regression Coefficients')\n",
        "plt.show()\n"
      ],
      "metadata": {
        "colab": {
          "base_uri": "https://localhost:8080/",
          "height": 720
        },
        "id": "zBYRr4rz1H_z",
        "outputId": "ef853999-aaa5-4084-be10-a0bc2e4e1a15"
      },
      "execution_count": 25,
      "outputs": [
        {
          "output_type": "stream",
          "name": "stdout",
          "text": [
            "Important Features based on model coefficients:\n",
            "    Feature  Coefficient\n",
            "1       Sex    -1.278865\n",
            "0    Pclass    -0.782061\n",
            "2       Age    -0.395574\n",
            "3     SibSp    -0.349582\n",
            "6  Embarked    -0.170860\n",
            "5      Fare     0.126216\n",
            "4     Parch    -0.098292\n"
          ]
        },
        {
          "output_type": "display_data",
          "data": {
            "text/plain": [
              "<Figure size 1000x600 with 1 Axes>"
            ],
            "image/png": "[encoded data removed]"
          },
          "metadata": {}
        }
      ]
    },
    {
      "cell_type": "markdown",
      "source": [
        "**19.Write a Python program to train Logistic Regression and evaluate its performance using Cohen’s Kappa Score.**"
      ],
      "metadata": {
        "id": "_PdaPpUf1Trs"
      }
    },
    {
      "cell_type": "code",
      "source": [
        "import pandas as pd\n",
        "from sklearn.model_selection import train_test_split\n",
        "from sklearn.linear_model import LogisticRegression\n",
        "from sklearn.metrics import cohen_kappa_score\n",
        "from sklearn.preprocessing import StandardScaler\n",
        "from sklearn.impute import SimpleImputer\n",
        "\n",
        "# Load the Titanic dataset (or use your own dataset)\n",
        "url = \"https://raw.githubusercontent.com/datasciencedojo/datasets/master/titanic.csv\"\n",
        "data = pd.read_csv(url)\n",
        "\n",
        "# Handle missing values\n",
        "imputer = SimpleImputer(strategy='median')\n",
        "data[['Age', 'Fare']] = imputer.fit_transform(data[['Age', 'Fare']])\n",
        "\n",
        "# Fill missing categorical values ('Embarked') with the most frequent category\n",
        "data['Embarked'] = data['Embarked'].fillna(data['Embarked'].mode()[0])\n",
        "\n",
        "# Drop columns that won't be used in the model (e.g., 'Name', 'Ticket', 'Cabin', 'PassengerId')\n",
        "data = data.drop(columns=['Name', 'Ticket', 'Cabin', 'PassengerId'])\n",
        "\n",
        "# Encode categorical features (e.g., 'Sex' and 'Embarked')\n",
        "from sklearn.preprocessing import LabelEncoder\n",
        "label_encoder = LabelEncoder()\n",
        "data['Sex'] = label_encoder.fit_transform(data['Sex'])\n",
        "data['Embarked'] = label_encoder.fit_transform(data['Embarked'])\n",
        "\n",
        "# Features (X) and target variable (y)\n",
        "X = data.drop(columns='Survived')  # Features (everything except 'Survived')\n",
        "y = data['Survived']  # Target variable (Survived: 1 or 0)\n",
        "\n",
        "# Split the data into training and testing sets (80% train, 20% test)\n",
        "X_train, X_test, y_train, y_test = train_test_split(X, y, test_size=0.2, random_state=42)\n",
        "\n",
        "# Standardize the features (feature scaling)\n",
        "scaler = StandardScaler()\n",
        "X_train_scaled = scaler.fit_transform(X_train)\n",
        "X_test_scaled = scaler.transform(X_test)\n",
        "\n",
        "# Train the Logistic Regression model\n",
        "logreg = LogisticRegression(max_iter=1000)\n",
        "logreg.fit(X_train_scaled, y_train)\n",
        "\n",
        "# Predict on the test set\n",
        "y_pred = logreg.predict(X_test_scaled)\n",
        "\n",
        "# Calculate Cohen's Kappa Score\n",
        "kappa = cohen_kappa_score(y_test, y_pred)\n",
        "\n",
        "# Print the Cohen's Kappa Score\n",
        "print(f\"Cohen's Kappa Score: {kappa:.4f}\")\n"
      ],
      "metadata": {
        "colab": {
          "base_uri": "https://localhost:8080/"
        },
        "id": "gQfStFES1bov",
        "outputId": "a2d9ad67-e565-4cbb-ec37-be969317a4f3"
      },
      "execution_count": 26,
      "outputs": [
        {
          "output_type": "stream",
          "name": "stdout",
          "text": [
            "Cohen's Kappa Score: 0.5928\n"
          ]
        }
      ]
    },
    {
      "cell_type": "markdown",
      "source": [
        "**20.Write a Python program to train Logistic Regression and visualize the Precision-Recall Curve for binary classification.**"
      ],
      "metadata": {
        "id": "P2k4c0Yg16uf"
      }
    },
    {
      "cell_type": "code",
      "source": [
        "import pandas as pd\n",
        "from sklearn.model_selection import train_test_split\n",
        "from sklearn.linear_model import LogisticRegression\n",
        "from sklearn.metrics import precision_recall_curve, average_precision_score\n",
        "import matplotlib.pyplot as plt\n",
        "from sklearn.preprocessing import StandardScaler\n",
        "from sklearn.impute import SimpleImputer\n",
        "from sklearn.preprocessing import LabelEncoder\n",
        "\n",
        "# Load the Titanic dataset (or use your own dataset)\n",
        "url = \"https://raw.githubusercontent.com/datasciencedojo/datasets/master/titanic.csv\"\n",
        "data = pd.read_csv(url)\n",
        "\n",
        "# Handle missing values\n",
        "imputer = SimpleImputer(strategy='median')\n",
        "data[['Age', 'Fare']] = imputer.fit_transform(data[['Age', 'Fare']])\n",
        "\n",
        "# Fill missing categorical values ('Embarked') with the most frequent category\n",
        "data['Embarked'] = data['Embarked'].fillna(data['Embarked'].mode()[0])\n",
        "\n",
        "# Drop columns that won't be used in the model (e.g., 'Name', 'Ticket', 'Cabin', 'PassengerId')\n",
        "data = data.drop(columns=['Name', 'Ticket', 'Cabin', 'PassengerId'])\n",
        "\n",
        "# Encode categorical features (e.g., 'Sex' and 'Embarked')\n",
        "label_encoder = LabelEncoder()\n",
        "data['Sex'] = label_encoder.fit_transform(data['Sex'])\n",
        "data['Embarked'] = label_encoder.fit_transform(data['Embarked'])\n",
        "\n",
        "# Features (X) and target variable (y)\n",
        "X = data.drop(columns='Survived')  # Features (everything except 'Survived')\n",
        "y = data['Survived']  # Target variable (Survived: 1 or 0)\n",
        "\n",
        "# Split the data into training and testing sets (80% train, 20% test)\n",
        "X_train, X_test, y_train, y_test = train_test_split(X, y, test_size=0.2, random_state=42)\n",
        "\n",
        "# Standardize the features (feature scaling)\n",
        "scaler = StandardScaler()\n",
        "X_train_scaled = scaler.fit_transform(X_train)\n",
        "X_test_scaled = scaler.transform(X_test)\n",
        "\n",
        "# Train the Logistic Regression model\n",
        "logreg = LogisticRegression(max_iter=1000)\n",
        "logreg.fit(X_train_scaled, y_train)\n",
        "\n",
        "# Predict probabilities for the test set\n",
        "y_probs = logreg.predict_proba(X_test_scaled)[:, 1]  # Get probabilities for the positive class (Survived=1)\n",
        "\n",
        "# Calculate precision, recall, and thresholds\n",
        "precision, recall, thresholds = precision_recall_curve(y_test, y_probs)\n",
        "\n",
        "# Plot the Precision-Recall curve\n",
        "plt.figure(figsize=(8, 6))\n",
        "plt.plot(recall, precision, color='blue', label='Precision-Recall Curve')\n",
        "plt.fill_between(recall, precision, color='blue', alpha=0.2)\n",
        "plt.title('Precision-Recall Curve for Logistic Regression')\n",
        "plt.xlabel('Recall')\n",
        "plt.ylabel('Precision')\n",
        "plt.legend(loc='best')\n",
        "plt.grid(True)\n",
        "plt.show()\n",
        "\n",
        "# Calculate Average Precision Score\n",
        "average_precision = average_precision_score(y_test, y_probs)\n",
        "print(f'Average Precision Score: {average_precision:.4f}')\n"
      ],
      "metadata": {
        "colab": {
          "base_uri": "https://localhost:8080/",
          "height": 581
        },
        "id": "M2q0uLHj2AZi",
        "outputId": "563e66f4-b894-487f-d868-ba30444fe61c"
      },
      "execution_count": 27,
      "outputs": [
        {
          "output_type": "display_data",
          "data": {
            "text/plain": [
              "<Figure size 800x600 with 1 Axes>"
            ],
            "image/png": "[encoded data removed]"
          },
          "metadata": {}
        },
        {
          "output_type": "stream",
          "name": "stdout",
          "text": [
            "Average Precision Score: 0.8795\n"
          ]
        }
      ]
    },
    {
      "cell_type": "markdown",
      "source": [
        "**21.Write a Python program to train Logistic Regression with different solvers (liblinear, saga, lbfgs) and compare their accuracy.**"
      ],
      "metadata": {
        "id": "f6UjUsFx2LUo"
      }
    },
    {
      "cell_type": "code",
      "source": [
        "import pandas as pd\n",
        "from sklearn.datasets import load_iris\n",
        "from sklearn.model_selection import train_test_split\n",
        "from sklearn.linear_model import LogisticRegression\n",
        "from sklearn.metrics import accuracy_score\n",
        "\n",
        "# Load the Iris dataset\n",
        "data = load_iris()\n",
        "X = data.data  # Features\n",
        "y = data.target  # Target variable\n",
        "\n",
        "# Split the data into training and testing sets (80% train, 20% test)\n",
        "X_train, X_test, y_train, y_test = train_test_split(X, y, test_size=0.2, random_state=42)\n",
        "\n",
        "# Define solvers to compare\n",
        "solvers = ['liblinear', 'saga', 'lbfgs']\n",
        "accuracies = {}\n",
        "\n",
        "# Train and evaluate Logistic Regression with different solvers\n",
        "for solver in solvers:\n",
        "    # Create Logistic Regression model with the specified solver\n",
        "    model = LogisticRegression(solver=solver, max_iter=200)\n",
        "\n",
        "    # Train the model\n",
        "    model.fit(X_train, y_train)\n",
        "\n",
        "    # Predict on the test set\n",
        "    y_pred = model.predict(X_test)\n",
        "\n",
        "    # Calculate accuracy\n",
        "    accuracy = accuracy_score(y_test, y_pred)\n",
        "    accuracies[solver] = accuracy\n",
        "\n",
        "# Print the accuracy for each solver\n",
        "for solver, accuracy in accuracies.items():\n",
        "    print(f\"Accuracy with solver '{solver}': {accuracy:.4f}\")\n"
      ],
      "metadata": {
        "colab": {
          "base_uri": "https://localhost:8080/"
        },
        "id": "k5yMiYTE2SEh",
        "outputId": "85e405b4-9268-4271-9c83-fac1bac5124b"
      },
      "execution_count": 28,
      "outputs": [
        {
          "output_type": "stream",
          "name": "stdout",
          "text": [
            "Accuracy with solver 'liblinear': 1.0000\n",
            "Accuracy with solver 'saga': 1.0000\n",
            "Accuracy with solver 'lbfgs': 1.0000\n"
          ]
        },
        {
          "output_type": "stream",
          "name": "stderr",
          "text": [
            "/usr/local/lib/python3.11/dist-packages/sklearn/linear_model/_sag.py:348: ConvergenceWarning: The max_iter was reached which means the coef_ did not converge\n",
            "  warnings.warn(\n"
          ]
        }
      ]
    },
    {
      "cell_type": "markdown",
      "source": [
        "**22.Write a Python program to train Logistic Regression and evaluate its performance using Matthews Correlation Coefficient (MCC).**"
      ],
      "metadata": {
        "id": "tPMpZuBd2d_Z"
      }
    },
    {
      "cell_type": "code",
      "source": [
        "import pandas as pd\n",
        "from sklearn.datasets import load_iris\n",
        "from sklearn.model_selection import train_test_split\n",
        "from sklearn.linear_model import LogisticRegression\n",
        "from sklearn.metrics import matthews_corrcoef\n",
        "\n",
        "# Load the Iris dataset\n",
        "data = load_iris()\n",
        "X = data.data  # Features\n",
        "y = data.target  # Target variable\n",
        "\n",
        "# Since MCC is used for binary classification, let's focus on classifying two classes (Setosa and Non-Setosa)\n",
        "y_binary = (y == 0).astype(int)  # Classifying Setosa as 1, and other classes as 0\n",
        "\n",
        "# Split the data into training and testing sets (80% train, 20% test)\n",
        "X_train, X_test, y_train, y_test = train_test_split(X, y_binary, test_size=0.2, random_state=42)\n",
        "\n",
        "# Define and train the Logistic Regression model\n",
        "logreg = LogisticRegression(max_iter=200)\n",
        "logreg.fit(X_train, y_train)\n",
        "\n",
        "# Predict on the test set\n",
        "y_pred = logreg.predict(X_test)\n",
        "\n",
        "# Calculate the Matthews Correlation Coefficient (MCC)\n",
        "mcc = matthews_corrcoef(y_test, y_pred)\n",
        "\n",
        "# Print the MCC score\n",
        "print(f\"Matthews Correlation Coefficient (MCC): {mcc:.4f}\")\n"
      ],
      "metadata": {
        "colab": {
          "base_uri": "https://localhost:8080/"
        },
        "id": "AZ1_o-cJ2j_E",
        "outputId": "5b6dd40d-a891-4c5b-8c21-8717224d02f8"
      },
      "execution_count": 29,
      "outputs": [
        {
          "output_type": "stream",
          "name": "stdout",
          "text": [
            "Matthews Correlation Coefficient (MCC): 1.0000\n"
          ]
        }
      ]
    },
    {
      "cell_type": "markdown",
      "source": [
        "**23.Write a Python program to train Logistic Regression on both raw and standardized data. Compare their accuracy to see the impact of feature scaling.**"
      ],
      "metadata": {
        "id": "CEWdXzkh2tWK"
      }
    },
    {
      "cell_type": "code",
      "source": [
        "import pandas as pd\n",
        "from sklearn.datasets import load_iris\n",
        "from sklearn.model_selection import train_test_split\n",
        "from sklearn.linear_model import LogisticRegression\n",
        "from sklearn.preprocessing import StandardScaler\n",
        "from sklearn.metrics import accuracy_score\n",
        "\n",
        "# Load the Iris dataset\n",
        "data = load_iris()\n",
        "X = data.data  # Features\n",
        "y = data.target  # Target variable\n",
        "\n",
        "# Split the data into training and testing sets (80% train, 20% test)\n",
        "X_train, X_test, y_train, y_test = train_test_split(X, y, test_size=0.2, random_state=42)\n",
        "\n",
        "# 1. Train Logistic Regression on Raw Data\n",
        "logreg_raw = LogisticRegression(max_iter=200)\n",
        "logreg_raw.fit(X_train, y_train)\n",
        "y_pred_raw = logreg_raw.predict(X_test)\n",
        "\n",
        "# 2. Standardize the data (Feature scaling)\n",
        "scaler = StandardScaler()\n",
        "X_train_scaled = scaler.fit_transform(X_train)\n",
        "X_test_scaled = scaler.transform(X_test)\n",
        "\n",
        "# Train Logistic Regression on Scaled Data\n",
        "logreg_scaled = LogisticRegression(max_iter=200)\n",
        "logreg_scaled.fit(X_train_scaled, y_train)\n",
        "y_pred_scaled = logreg_scaled.predict(X_test_scaled)\n",
        "\n",
        "# Calculate and compare accuracy for both raw and standardized data\n",
        "accuracy_raw = accuracy_score(y_test, y_pred_raw)\n",
        "accuracy_scaled = accuracy_score(y_test, y_pred_scaled)\n",
        "\n",
        "# Print the results\n",
        "print(f\"Accuracy on Raw Data: {accuracy_raw:.4f}\")\n",
        "print(f\"Accuracy on Scaled Data: {accuracy_scaled:.4f}\")\n"
      ],
      "metadata": {
        "colab": {
          "base_uri": "https://localhost:8080/"
        },
        "id": "efgl6t202zSi",
        "outputId": "6acca1df-cdd7-4bbd-91b4-8756d71abde7"
      },
      "execution_count": 30,
      "outputs": [
        {
          "output_type": "stream",
          "name": "stdout",
          "text": [
            "Accuracy on Raw Data: 1.0000\n",
            "Accuracy on Scaled Data: 1.0000\n"
          ]
        }
      ]
    },
    {
      "cell_type": "markdown",
      "source": [
        "**24.Write a Python program to train Logistic Regression and find the optimal C (regularization strength) using cross-validation.**"
      ],
      "metadata": {
        "id": "YwEFw_-o28AV"
      }
    },
    {
      "cell_type": "code",
      "source": [
        "import numpy as np\n",
        "from sklearn.datasets import load_iris\n",
        "from sklearn.model_selection import train_test_split, GridSearchCV\n",
        "from sklearn.linear_model import LogisticRegression\n",
        "from sklearn.metrics import accuracy_score\n",
        "\n",
        "# Load the Iris dataset\n",
        "data = load_iris()\n",
        "X = data.data  # Features\n",
        "y = data.target  # Target variable\n",
        "\n",
        "# Split the data into training and testing sets (80% train, 20% test)\n",
        "X_train, X_test, y_train, y_test = train_test_split(X, y, test_size=0.2, random_state=42)\n",
        "\n",
        "# Define the Logistic Regression model\n",
        "logreg = LogisticRegression(max_iter=200)\n",
        "\n",
        "# Define the hyperparameters for tuning (the C parameter)\n",
        "param_grid = {'C': np.logspace(-4, 4, 20)}  # 20 values from 10^-4 to 10^4 for C\n",
        "\n",
        "# Apply GridSearchCV with 5-fold cross-validation to find the optimal C\n",
        "grid_search = GridSearchCV(estimator=logreg, param_grid=param_grid, cv=5, n_jobs=-1)\n",
        "grid_search.fit(X_train, y_train)\n",
        "\n",
        "# Get the best hyperparameter (C) and its corresponding accuracy\n",
        "best_C = grid_search.best_params_['C']\n",
        "best_model = grid_search.best_estimator_\n",
        "\n",
        "# Print the best C value found\n",
        "print(f\"Best C value: {best_C}\")\n",
        "\n",
        "# Evaluate the model on the test set\n",
        "y_pred = best_model.predict(X_test)\n",
        "accuracy = accuracy_score(y_test, y_pred)\n",
        "\n",
        "# Print the accuracy of the model with the best C\n",
        "print(f\"Test Accuracy: {accuracy:.4f}\")\n"
      ],
      "metadata": {
        "colab": {
          "base_uri": "https://localhost:8080/"
        },
        "id": "51SS10-r3D5u",
        "outputId": "37cf3197-7387-4392-cc64-4358377096c8"
      },
      "execution_count": 31,
      "outputs": [
        {
          "output_type": "stream",
          "name": "stdout",
          "text": [
            "Best C value: 0.615848211066026\n",
            "Test Accuracy: 1.0000\n"
          ]
        }
      ]
    },
    {
      "cell_type": "markdown",
      "source": [
        "**25.Write a Python program to train Logistic Regression, save the trained model using joblib, and load it again to make predictions.**"
      ],
      "metadata": {
        "id": "pu5fLq313N_D"
      }
    },
    {
      "cell_type": "code",
      "source": [
        "import joblib\n",
        "import numpy as np\n",
        "from sklearn.datasets import load_iris\n",
        "from sklearn.model_selection import train_test_split\n",
        "from sklearn.linear_model import LogisticRegression\n",
        "from sklearn.metrics import accuracy_score\n",
        "\n",
        "# Load the Iris dataset\n",
        "data = load_iris()\n",
        "X = data.data  # Features\n",
        "y = data.target  # Target variable\n",
        "\n",
        "# Split the data into training and testing sets (80% train, 20% test)\n",
        "X_train, X_test, y_train, y_test = train_test_split(X, y, test_size=0.2, random_state=42)\n",
        "\n",
        "# Train a Logistic Regression model\n",
        "logreg = LogisticRegression(max_iter=200)\n",
        "logreg.fit(X_train, y_train)\n",
        "\n",
        "# Save the trained model using joblib\n",
        "joblib.dump(logreg, 'logistic_regression_model.pkl')\n",
        "\n",
        "# Load the saved model\n",
        "loaded_model = joblib.load('logistic_regression_model.pkl')\n",
        "\n",
        "# Make predictions using the loaded model\n",
        "y_pred = loaded_model.predict(X_test)\n",
        "\n",
        "# Evaluate the accuracy of the model\n",
        "accuracy = accuracy_score(y_test, y_pred)\n",
        "print(f\"Accuracy of the loaded model: {accuracy:.4f}\")\n"
      ],
      "metadata": {
        "colab": {
          "base_uri": "https://localhost:8080/"
        },
        "id": "w3sOTuJo3TIh",
        "outputId": "f043cdb4-2278-4126-d407-97769f5ceda9"
      },
      "execution_count": 32,
      "outputs": [
        {
          "output_type": "stream",
          "name": "stdout",
          "text": [
            "Accuracy of the loaded model: 1.0000\n"
          ]
        }
      ]
    }
  ]
}